{
  "cells": [
    {
      "cell_type": "markdown",
      "metadata": {
        "id": "LO-fZBF2QQko"
      },
      "source": [
        "# Setup Environment"
      ]
    },
    {
      "cell_type": "code",
      "execution_count": 1,
      "metadata": {
        "id": "IMVmi4veYHyc"
      },
      "outputs": [],
      "source": [
        "# Modify the pathname\n",
        "\n",
        "pathname = '/content/drive/MyDrive/MMAI/MMAI 891 - NLP/NLP Topic Classification/'"
      ]
    },
    {
      "cell_type": "code",
      "execution_count": 2,
      "metadata": {
        "colab": {
          "base_uri": "https://localhost:8080/"
        },
        "id": "iPLPkFRnNsVU",
        "outputId": "90181a90-4b8d-4dd3-f2d9-eec3726cac14"
      },
      "outputs": [
        {
          "output_type": "stream",
          "name": "stdout",
          "text": [
            "Mounted at /content/drive\n"
          ]
        }
      ],
      "source": [
        "# Connect and Mount Google Drive if needed\n",
        "\n",
        "from google.colab import drive\n",
        "drive.mount('/content/drive')"
      ]
    },
    {
      "cell_type": "code",
      "execution_count": 3,
      "metadata": {
        "id": "gH6VFhFvnmET"
      },
      "outputs": [],
      "source": [
        "# Install packages\n",
        "\n",
        "%%capture\n",
        "\n",
        "!pip install tensorflow\n",
        "!pip install -q transformers tfds-nightly\n",
        "!pip install optuna\n",
        "!pip install -U sentence-transformers"
      ]
    },
    {
      "cell_type": "code",
      "execution_count": 4,
      "metadata": {
        "id": "H5w91_1GAx6I"
      },
      "outputs": [],
      "source": [
        "# Set Seed \n",
        "\n",
        "seed_value=123\n",
        "\n",
        "# 1. Set the `PYTHONHASHSEED` environment variable at a fixed value\n",
        "import os\n",
        "os.environ['PYTHONHASHSEED']=str(seed_value)\n",
        "\n",
        "# 2. Set the `python` built-in pseudo-random generator at a fixed value\n",
        "import random\n",
        "random.seed(seed_value)\n",
        "\n",
        "# 3. Set the `numpy` pseudo-random generator at a fixed value\n",
        "import numpy as np\n",
        "np.random.seed(seed_value)\n",
        "\n",
        "# 4. Set the `tensorflow` pseudo-random generator at a fixed value\n",
        "import tensorflow as tf\n",
        "tf.random.set_seed(seed_value)\n",
        "# for later versions: \n",
        "tf.compat.v1.set_random_seed(seed_value)\n",
        "\n",
        "# 5. Configure a new global `tensorflow` session\n",
        "from keras import backend as K\n",
        "session_conf = tf.compat.v1.ConfigProto(intra_op_parallelism_threads=1, inter_op_parallelism_threads=1)\n",
        "sess = tf.compat.v1.Session(graph=tf.compat.v1.get_default_graph(), config=session_conf)\n",
        "tf.compat.v1.keras.backend.set_session(sess)"
      ]
    },
    {
      "cell_type": "code",
      "execution_count": 5,
      "metadata": {
        "colab": {
          "base_uri": "https://localhost:8080/"
        },
        "id": "-eBu16fhMaB7",
        "outputId": "a7147f47-fc38-4559-e01c-7eb6ec047e05"
      },
      "outputs": [
        {
          "output_type": "stream",
          "name": "stderr",
          "text": [
            "[nltk_data] Downloading package stopwords to /root/nltk_data...\n",
            "[nltk_data]   Unzipping corpora/stopwords.zip.\n",
            "[nltk_data] Downloading package punkt to /root/nltk_data...\n",
            "[nltk_data]   Unzipping tokenizers/punkt.zip.\n"
          ]
        }
      ],
      "source": [
        "# Import libraries\n",
        "\n",
        "import matplotlib.pyplot as plt\n",
        "import pandas as pd\n",
        "\n",
        "from transformers import DistilBertTokenizer, TFDistilBertModel\n",
        "\n",
        "from keras.layers import Dense, Input, Dropout\n",
        "\n",
        "import tensorflow_datasets as tfds\n",
        "\n",
        "from tensorflow import keras\n",
        "from keras import regularizers \n",
        "\n",
        "from keras.losses import CategoricalCrossentropy\n",
        "from keras.metrics import CategoricalAccuracy\n",
        "from tensorflow.keras.optimizers import Adam\n",
        "\n",
        "from sentence_transformers import SentenceTransformer\n",
        "\n",
        "\n",
        "from sklearn import preprocessing\n",
        "from sklearn.model_selection import train_test_split\n",
        "\n",
        "import nltk\n",
        "nltk.download('stopwords')\n",
        "nltk.download('punkt')\n",
        "from nltk.corpus import stopwords\n",
        "\n",
        "from wordcloud import WordCloud\n",
        "\n",
        "import re\n",
        "import spacy\n",
        "from nltk.tokenize import word_tokenize\n",
        "\n",
        "from collections import Counter\n",
        "import seaborn as sns\n",
        "\n",
        "from sklearn.feature_extraction.text import TfidfVectorizer\n",
        "\n",
        "import optuna\n",
        "from optuna.integration import LightGBMPruningCallback\n",
        "\n",
        "from sklearn.metrics import accuracy_score, classification_report\n",
        "from sklearn.model_selection import StratifiedKFold, cross_val_score, GridSearchCV\n",
        "from lightgbm import LGBMClassifier\n",
        "from sklearn.feature_selection import RFE\n",
        "from sklearn.pipeline import make_pipeline\n",
        "from sklearn.pipeline import Pipeline\n",
        "from sklearn.base import BaseEstimator, TransformerMixin\n",
        "from sklearn.compose import ColumnTransformer\n",
        "from sklearn.metrics import confusion_matrix, ConfusionMatrixDisplay\n",
        "\n",
        "import warnings\n",
        "warnings.filterwarnings(\"ignore\", category=UserWarning)\n",
        "pd.options.mode.chained_assignment = None"
      ]
    },
    {
      "cell_type": "markdown",
      "metadata": {
        "id": "fa6gm-mzAaBD"
      },
      "source": [
        "# Load and Split Data"
      ]
    },
    {
      "cell_type": "code",
      "execution_count": 6,
      "metadata": {
        "colab": {
          "base_uri": "https://localhost:8080/",
          "height": 143
        },
        "id": "MB5QiNCjOSBY",
        "outputId": "ec233b27-1c49-46bf-91eb-5a436accb211"
      },
      "outputs": [
        {
          "output_type": "execute_result",
          "data": {
            "text/plain": [
              "     id                                            message  \\\n",
              "0  5396  I made a purchase recently but I have decided ...   \n",
              "1  2202                        Cancel my transfer, please.   \n",
              "2  3768                      How do I change my last name?   \n",
              "\n",
              "                   label  \n",
              "0         request_refund  \n",
              "1        cancel_transfer  \n",
              "2  edit_personal_details  "
            ],
            "text/html": [
              "\n",
              "  <div id=\"df-c74764ec-64f7-4580-8f9c-aeeaa62471e7\">\n",
              "    <div class=\"colab-df-container\">\n",
              "      <div>\n",
              "<style scoped>\n",
              "    .dataframe tbody tr th:only-of-type {\n",
              "        vertical-align: middle;\n",
              "    }\n",
              "\n",
              "    .dataframe tbody tr th {\n",
              "        vertical-align: top;\n",
              "    }\n",
              "\n",
              "    .dataframe thead th {\n",
              "        text-align: right;\n",
              "    }\n",
              "</style>\n",
              "<table border=\"1\" class=\"dataframe\">\n",
              "  <thead>\n",
              "    <tr style=\"text-align: right;\">\n",
              "      <th></th>\n",
              "      <th>id</th>\n",
              "      <th>message</th>\n",
              "      <th>label</th>\n",
              "    </tr>\n",
              "  </thead>\n",
              "  <tbody>\n",
              "    <tr>\n",
              "      <th>0</th>\n",
              "      <td>5396</td>\n",
              "      <td>I made a purchase recently but I have decided ...</td>\n",
              "      <td>request_refund</td>\n",
              "    </tr>\n",
              "    <tr>\n",
              "      <th>1</th>\n",
              "      <td>2202</td>\n",
              "      <td>Cancel my transfer, please.</td>\n",
              "      <td>cancel_transfer</td>\n",
              "    </tr>\n",
              "    <tr>\n",
              "      <th>2</th>\n",
              "      <td>3768</td>\n",
              "      <td>How do I change my last name?</td>\n",
              "      <td>edit_personal_details</td>\n",
              "    </tr>\n",
              "  </tbody>\n",
              "</table>\n",
              "</div>\n",
              "      <button class=\"colab-df-convert\" onclick=\"convertToInteractive('df-c74764ec-64f7-4580-8f9c-aeeaa62471e7')\"\n",
              "              title=\"Convert this dataframe to an interactive table.\"\n",
              "              style=\"display:none;\">\n",
              "        \n",
              "  <svg xmlns=\"http://www.w3.org/2000/svg\" height=\"24px\"viewBox=\"0 0 24 24\"\n",
              "       width=\"24px\">\n",
              "    <path d=\"M0 0h24v24H0V0z\" fill=\"none\"/>\n",
              "    <path d=\"M18.56 5.44l.94 2.06.94-2.06 2.06-.94-2.06-.94-.94-2.06-.94 2.06-2.06.94zm-11 1L8.5 8.5l.94-2.06 2.06-.94-2.06-.94L8.5 2.5l-.94 2.06-2.06.94zm10 10l.94 2.06.94-2.06 2.06-.94-2.06-.94-.94-2.06-.94 2.06-2.06.94z\"/><path d=\"M17.41 7.96l-1.37-1.37c-.4-.4-.92-.59-1.43-.59-.52 0-1.04.2-1.43.59L10.3 9.45l-7.72 7.72c-.78.78-.78 2.05 0 2.83L4 21.41c.39.39.9.59 1.41.59.51 0 1.02-.2 1.41-.59l7.78-7.78 2.81-2.81c.8-.78.8-2.07 0-2.86zM5.41 20L4 18.59l7.72-7.72 1.47 1.35L5.41 20z\"/>\n",
              "  </svg>\n",
              "      </button>\n",
              "      \n",
              "  <style>\n",
              "    .colab-df-container {\n",
              "      display:flex;\n",
              "      flex-wrap:wrap;\n",
              "      gap: 12px;\n",
              "    }\n",
              "\n",
              "    .colab-df-convert {\n",
              "      background-color: #E8F0FE;\n",
              "      border: none;\n",
              "      border-radius: 50%;\n",
              "      cursor: pointer;\n",
              "      display: none;\n",
              "      fill: #1967D2;\n",
              "      height: 32px;\n",
              "      padding: 0 0 0 0;\n",
              "      width: 32px;\n",
              "    }\n",
              "\n",
              "    .colab-df-convert:hover {\n",
              "      background-color: #E2EBFA;\n",
              "      box-shadow: 0px 1px 2px rgba(60, 64, 67, 0.3), 0px 1px 3px 1px rgba(60, 64, 67, 0.15);\n",
              "      fill: #174EA6;\n",
              "    }\n",
              "\n",
              "    [theme=dark] .colab-df-convert {\n",
              "      background-color: #3B4455;\n",
              "      fill: #D2E3FC;\n",
              "    }\n",
              "\n",
              "    [theme=dark] .colab-df-convert:hover {\n",
              "      background-color: #434B5C;\n",
              "      box-shadow: 0px 1px 3px 1px rgba(0, 0, 0, 0.15);\n",
              "      filter: drop-shadow(0px 1px 2px rgba(0, 0, 0, 0.3));\n",
              "      fill: #FFFFFF;\n",
              "    }\n",
              "  </style>\n",
              "\n",
              "      <script>\n",
              "        const buttonEl =\n",
              "          document.querySelector('#df-c74764ec-64f7-4580-8f9c-aeeaa62471e7 button.colab-df-convert');\n",
              "        buttonEl.style.display =\n",
              "          google.colab.kernel.accessAllowed ? 'block' : 'none';\n",
              "\n",
              "        async function convertToInteractive(key) {\n",
              "          const element = document.querySelector('#df-c74764ec-64f7-4580-8f9c-aeeaa62471e7');\n",
              "          const dataTable =\n",
              "            await google.colab.kernel.invokeFunction('convertToInteractive',\n",
              "                                                     [key], {});\n",
              "          if (!dataTable) return;\n",
              "\n",
              "          const docLinkHtml = 'Like what you see? Visit the ' +\n",
              "            '<a target=\"_blank\" href=https://colab.research.google.com/notebooks/data_table.ipynb>data table notebook</a>'\n",
              "            + ' to learn more about interactive tables.';\n",
              "          element.innerHTML = '';\n",
              "          dataTable['output_type'] = 'display_data';\n",
              "          await google.colab.output.renderOutput(dataTable, element);\n",
              "          const docLink = document.createElement('div');\n",
              "          docLink.innerHTML = docLinkHtml;\n",
              "          element.appendChild(docLink);\n",
              "        }\n",
              "      </script>\n",
              "    </div>\n",
              "  </div>\n",
              "  "
            ]
          },
          "metadata": {},
          "execution_count": 6
        }
      ],
      "source": [
        "def load_data():\n",
        "\n",
        "    df = pd.read_csv(pathname+'public_data.csv')\n",
        "\n",
        "    return df\n",
        "\n",
        "data = load_data()\n",
        "data.head(3)"
      ]
    },
    {
      "cell_type": "code",
      "execution_count": 7,
      "metadata": {
        "colab": {
          "base_uri": "https://localhost:8080/",
          "height": 52
        },
        "id": "K-4b42frAos_",
        "outputId": "7d45e735-2bc6-4674-e171-560f2c982312"
      },
      "outputs": [
        {
          "output_type": "display_data",
          "data": {
            "text/plain": [
              "(8372,)"
            ]
          },
          "metadata": {}
        },
        {
          "output_type": "display_data",
          "data": {
            "text/plain": [
              "(2094,)"
            ]
          },
          "metadata": {}
        }
      ],
      "source": [
        "def split_data(df):\n",
        "\n",
        "    X = df['message']\n",
        "    y = df['label']\n",
        "  \n",
        "    X_train_, X_test_, y_train_, y_test_ = train_test_split(X, y, test_size=0.2, random_state=123)\n",
        "\n",
        "    return X_train_, X_test_, y_train_, y_test_\n",
        "\n",
        "X_train, X_test, y_train, y_test = split_data(data)\n",
        "display(X_train.shape)\n",
        "display(X_test.shape)"
      ]
    },
    {
      "cell_type": "markdown",
      "metadata": {
        "id": "_FlVhoBqDAzk"
      },
      "source": [
        "# EDA"
      ]
    },
    {
      "cell_type": "code",
      "execution_count": 8,
      "metadata": {
        "colab": {
          "base_uri": "https://localhost:8080/",
          "height": 578
        },
        "id": "8fApZlN-ebuI",
        "outputId": "bb029c98-64eb-4c8e-dabc-abf42f4c4f6f"
      },
      "outputs": [
        {
          "output_type": "display_data",
          "data": {
            "text/plain": [
              "<Figure size 2160x504 with 1 Axes>"
            ],
            "image/png": "[encoded data removed]"
          },
          "metadata": {
            "needs_background": "light"
          }
        }
      ],
      "source": [
        "# Class Distribution\n",
        "\n",
        "y_train.value_counts().plot.bar(figsize=(30,7))\n",
        "plt.title('Class Distribution')\n",
        "plt.show()"
      ]
    },
    {
      "cell_type": "code",
      "execution_count": 9,
      "metadata": {
        "colab": {
          "base_uri": "https://localhost:8080/",
          "height": 281
        },
        "id": "r0iDNSdnd40A",
        "outputId": "c86d2134-f0a0-48d8-95e7-f1ca1bec5fc3"
      },
      "outputs": [
        {
          "output_type": "display_data",
          "data": {
            "text/plain": [
              "<Figure size 432x288 with 1 Axes>"
            ],
            "image/png": "[encoded data removed]"
          },
          "metadata": {
            "needs_background": "light"
          }
        }
      ],
      "source": [
        "# number of words\n",
        "\n",
        "X_train.str.split().map(lambda x: len(x)).hist(bins=70)\n",
        "plt.title('Word Count distribution')\n",
        "plt.show()"
      ]
    },
    {
      "cell_type": "code",
      "execution_count": 10,
      "metadata": {
        "colab": {
          "base_uri": "https://localhost:8080/",
          "height": 317
        },
        "id": "8qSMh5HNd5FH",
        "outputId": "29afb2c8-2caa-41d8-ee9b-dd6839c034a8"
      },
      "outputs": [
        {
          "output_type": "execute_result",
          "data": {
            "text/plain": [
              "<PIL.Image.Image image mode=RGB size=600x300 at 0x7F82ED00C390>"
            ],
            "image/png": "[encoded data removed]"
          },
          "metadata": {},
          "execution_count": 10
        }
      ],
      "source": [
        "# Word Cloud\n",
        "\n",
        "# Join the different processed titles together.\n",
        "long_string = ','.join(list(X_train.values))\n",
        "\n",
        "# Create a WordCloud object\n",
        "wordcloud = WordCloud(background_color=\"white\", max_words=10000, width=600, height=300, contour_width=10, contour_color='steelblue')\n",
        "\n",
        "# Generate a word cloud\n",
        "wordcloud.generate(long_string)\n",
        "\n",
        "# Visualize the word cloud\n",
        "wordcloud.to_image()"
      ]
    },
    {
      "cell_type": "code",
      "execution_count": 11,
      "metadata": {
        "colab": {
          "base_uri": "https://localhost:8080/",
          "height": 281
        },
        "id": "EA9IKH-ed5OA",
        "outputId": "155c83be-2c9e-46a5-f576-18a8315636a7"
      },
      "outputs": [
        {
          "output_type": "display_data",
          "data": {
            "text/plain": [
              "<Figure size 432x288 with 1 Axes>"
            ],
            "image/png": "[encoded data removed]"
          },
          "metadata": {
            "needs_background": "light"
          }
        }
      ],
      "source": [
        "# Top non-stopwords\n",
        "\n",
        "new=X_train.str.split().values.tolist()\n",
        "corpus=[word for i in new for word in i]\n",
        "\n",
        "en = spacy.load('en_core_web_sm')\n",
        "stop = en.Defaults.stop_words\n",
        "stop = list(stop)+['I','i','is','Is']\n",
        "\n",
        "counter=Counter(corpus)\n",
        "most=counter.most_common()\n",
        "\n",
        "x, y= [], []\n",
        "for word,count in most[:65]:\n",
        "    if (word not in stop):\n",
        "        x.append(word)\n",
        "        y.append(count)\n",
        "        \n",
        "sns.barplot(x=y,y=x)\n",
        "\n",
        "plt.title('Most Frequent Non-Stop Words')\n",
        "plt.show()"
      ]
    },
    {
      "cell_type": "code",
      "execution_count": 11,
      "metadata": {
        "id": "8-PEvCvmmYGg"
      },
      "outputs": [],
      "source": [
        ""
      ]
    },
    {
      "cell_type": "markdown",
      "metadata": {
        "id": "mu37EN9xDDbR"
      },
      "source": [
        "# Shallow Model: LightGBM with TfIdf"
      ]
    },
    {
      "cell_type": "code",
      "execution_count": 12,
      "metadata": {
        "id": "Npro2jgJDMZD"
      },
      "outputs": [],
      "source": [
        "# 1) Converts text to lower case\n",
        "# 2) Removes stop-words using spacy\n",
        "# 3) Removes all characters except the alphabet \n",
        "\n",
        "def clean_text(X):\n",
        "\n",
        "    X = X.apply(lambda x: x.lower())\n",
        "\n",
        "    en = spacy.load('en_core_web_sm')\n",
        "    stop = en.Defaults.stop_words\n",
        "    X = X.apply(lambda x: ' '.join([word for word in x.split() if word not in (stop)]))\n",
        "\n",
        "    X = X.apply(lambda x: re.sub(r'[^a-zA-Z ]', '',x))\n",
        "\n",
        "    return X"
      ]
    },
    {
      "cell_type": "code",
      "execution_count": 13,
      "metadata": {
        "id": "WWkYG5JPL4fW"
      },
      "outputs": [],
      "source": [
        "# Tokenization and Tf-Idf Vectorization\n",
        "\n",
        "class vectorize(BaseEstimator, TransformerMixin):\n",
        "    \n",
        "    def __init__(self,tfidf=None):\n",
        "        self.tfidf = tfidf\n",
        "        \n",
        "    def fit(self, X, y=None):\n",
        "        \n",
        "        X1 = X.copy()\n",
        "        self.tfidf = TfidfVectorizer(strip_accents='unicode',\n",
        "                          tokenizer=word_tokenize,\n",
        "                          ngram_range=(1,2),\n",
        "                          max_df=0.5,\n",
        "                          min_df=0.002)\n",
        "        self.tfidf.fit(X1)\n",
        "        \n",
        "        return self\n",
        "\n",
        "    def transform(self, X):\n",
        "\n",
        "        X1 = X.copy()\n",
        "        X1 = self.tfidf.transform(X1)\n",
        "        X1 = pd.DataFrame(X1.toarray())\n",
        "        inv_map = {v: k for k, v in self.tfidf.vocabulary_.items()}\n",
        "        X1.rename(columns=inv_map,inplace=True)\n",
        "        \n",
        "        return X1\n"
      ]
    },
    {
      "cell_type": "code",
      "execution_count": 14,
      "metadata": {
        "id": "XCTv8nRJNduz"
      },
      "outputs": [],
      "source": [
        "# Select Features using Recursive Feature Elimination\n",
        "\n",
        "class select_features(BaseEstimator, TransformerMixin):\n",
        "    \n",
        "    def __init__(self, rfe=None, n=None, est=None):\n",
        "        self.rfe = rfe\n",
        "        self.n = n\n",
        "        self.est = est\n",
        "        \n",
        "    def fit(self, X, y):\n",
        "        \n",
        "        X1 = X.copy()\n",
        "        y1 = y.copy()\n",
        "        self.rfe = RFE(estimator=self.est, step=10000, n_features_to_select=self.n)\n",
        "        self.rfe.fit(X1,y1)\n",
        "        \n",
        "        return self\n",
        "\n",
        "    def transform(self, X):\n",
        "\n",
        "        X1 = X.copy()\n",
        "        X1 = X1.loc[:,self.rfe.support_]\n",
        "\n",
        "        return X1"
      ]
    },
    {
      "cell_type": "code",
      "execution_count": 15,
      "metadata": {
        "id": "4UQ3M_HyOBu-"
      },
      "outputs": [],
      "source": [
        "# Use Optuna for tuning LightGBM with pruning callbacks\n",
        "\n",
        "class Objective:\n",
        "    \n",
        "    def __init__(self):\n",
        "        self.best_booster = None\n",
        "        self._booster = None\n",
        "    \n",
        "    def __call__(self, trial, X, y):\n",
        "        \n",
        "        param_grid = {\n",
        "        \"n_estimators\": trial.suggest_int(\"n_estimators\", 100, 500, step=100),\n",
        "        \"learning_rate\": trial.suggest_loguniform(\"learning_rate\", 0.005, 0.1),\n",
        "        \"num_leaves\": trial.suggest_int('num_leaves', 16, 4096),\n",
        "        \"max_depth\": trial.suggest_int(\"max_depth\", 4, 12),\n",
        "        \"min_data_in_leaf\": trial.suggest_int(\"min_data_in_leaf\", 1, 20),\n",
        "        \"max_bin\": trial.suggest_int(\"max_bin\", 50, 500, step=10),\n",
        "        \"lambda_l1\": trial.suggest_loguniform('lambda_l1', 1e-6, 1),\n",
        "        \"lambda_l2\": trial.suggest_loguniform('lambda_l2', 1e-6, 1),\n",
        "        \"min_gain_to_split\": trial.suggest_float(\"min_gain_to_split\", 0, 0.1),\n",
        "        \"bagging_fraction\": trial.suggest_uniform('bagging_fraction', 0.7, 1),\n",
        "        \"bagging_freq\": trial.suggest_int('bagging_freq', 1, 10),\n",
        "        \"feature_fraction\": trial.suggest_uniform('feature_fraction', 0.5, 1),\n",
        "        \"early_stopping_rounds\": trial.suggest_categorical(\"early_stopping_rounds\", [100]),\n",
        "        }\n",
        "\n",
        "        param2 = {\"n\": trial.suggest_int(\"n\", 50, 500, step=10)}\n",
        "              \n",
        "        pipe_a = Pipeline(steps=[('vectorize', vectorize()),\n",
        "                                 ('select_features', select_features(**param2,est=LGBMClassifier()))])\n",
        "        pipe_b = Pipeline(steps=[('modeler', LGBMClassifier(objective='multiclass', **param_grid, random_state=123))])\n",
        "        \n",
        "        cv = StratifiedKFold(n_splits=5, shuffle=True, random_state=123)\n",
        "        cv_scores = np.empty(5)\n",
        "    \n",
        "        for idx, (train_idx, val_idx) in enumerate(cv.split(X, y)):\n",
        "        \n",
        "            X_train, X_val = X.iloc[train_idx], X.iloc[val_idx]\n",
        "            y_train, y_val = y.iloc[train_idx], y.iloc[val_idx]\n",
        "\n",
        "            X_train = clean_text(X_train)\n",
        "            X_val = clean_text(X_val)\n",
        "\n",
        "            pipe_a.fit(X_train,y_train)\n",
        "            X_train = pipe_a.transform(X_train)\n",
        "            X_val = pipe_a.transform(X_val)\n",
        "\n",
        "            pipe_b.fit(\n",
        "                X_train,\n",
        "                y_train,\n",
        "                modeler__eval_set=[(X_val,y_val)],\n",
        "                modeler__eval_metric='multi_logloss',\n",
        "                modeler__callbacks=[LightGBMPruningCallback(trial, \"multi_logloss\")],\n",
        "                modeler__verbose=0\n",
        "            )\n",
        "\n",
        "            preds = pipe_b.predict(X_val)\n",
        "            cv_scores[idx] = accuracy_score(y_val, preds)\n",
        "        \n",
        "        self._booster = pipe_b['modeler']\n",
        "        \n",
        "        return np.mean(cv_scores)\n",
        "\n",
        "    def callback(self, study, trial):\n",
        "        \n",
        "        if study.best_trial == trial:\n",
        "            self.best_booster = self._booster\n",
        "\n",
        "\n",
        "def optuna_tuning(X, y, ntrials):\n",
        "    \n",
        "    objective = Objective()\n",
        "\n",
        "    study = optuna.create_study(pruner=optuna.pruners.MedianPruner(n_warmup_steps=1),\n",
        "                            direction=\"minimize\", study_name=\"LGBM Classifier\")\n",
        "    func = lambda trial: objective(trial, X, y)\n",
        "    study.optimize(func, n_trials=ntrials, callbacks=[objective.callback])\n",
        "\n",
        "    for key, value in study.best_params.items():\n",
        "        print(f\"\\t\\t{key}: {value}\")   \n",
        "    \n",
        "    print('Best value: ',study.best_value)\n",
        "    print('Best iterations: ',objective.best_booster.best_iteration_)\n"
      ]
    },
    {
      "cell_type": "code",
      "execution_count": 16,
      "metadata": {
        "id": "tWewQ38yOB2C"
      },
      "outputs": [],
      "source": [
        "# # Call the tuning function (commented out so that it doesn't execute on Run All)\n",
        "\n",
        "# optuna_tuning(X_train, y_train, 100) # uncomment for tuning"
      ]
    },
    {
      "cell_type": "code",
      "execution_count": 17,
      "metadata": {
        "id": "729DVrRH6ekE"
      },
      "outputs": [],
      "source": [
        "# Best hyperparameters from Optuna tuning - \n",
        "\n",
        "best_params = {'n_estimators': 300,\n",
        "\t\t'learning_rate': 0.009465650002016093,\n",
        "\t\t'num_leaves': 256,\n",
        "\t\t'max_depth': 8,\n",
        "\t\t'min_data_in_leaf': 5,\n",
        "\t\t'max_bin': 120,\n",
        "\t\t'lambda_l1': 1.1064189698586584e-05,\n",
        "\t\t'lambda_l2': 2.786200972607006e-05,\n",
        "\t\t'min_gain_to_split': 0.02051948470231614,\n",
        "\t\t'bagging_fraction': 0.9291430999126205,\n",
        "\t\t'bagging_freq': 5,\n",
        "\t\t'feature_fraction': 0.7293508287762191,\n",
        "\t\t'n': 300}"
      ]
    },
    {
      "cell_type": "code",
      "execution_count": 18,
      "metadata": {
        "id": "Z7yPHdicOtSX"
      },
      "outputs": [],
      "source": [
        "# Retrain model on full Training data using best hyperparameters\n",
        "\n",
        "def retrain(X_train_, y_train_):\n",
        "    \n",
        "    X_train_ = clean_text(X_train_)\n",
        "\n",
        "    model1 = LGBMClassifier(objective='multiclass',**best_params, random_state=123)\n",
        "\n",
        "    pipe_ = Pipeline(steps=[('vectorize', vectorize()),\n",
        "                      ('select_features', select_features(n=best_params['n'], est=LGBMClassifier())),\n",
        "                      ('modeler', model1)])\n",
        "\n",
        "    pipe_.fit(X_train_,y_train_)\n",
        "\n",
        "    return pipe_, X_train_, y_train_\n",
        "\n",
        "pipe, X_train1, y_train1 = retrain(X_train, y_train)"
      ]
    },
    {
      "cell_type": "code",
      "execution_count": 19,
      "metadata": {
        "colab": {
          "base_uri": "https://localhost:8080/"
        },
        "id": "5ELV1A0uPmZp",
        "outputId": "5a196c26-50b2-49f7-dae1-d298a8dc1473"
      },
      "outputs": [
        {
          "output_type": "stream",
          "name": "stdout",
          "text": [
            "Train Accuracy:  0.9445771619684663\n",
            "Test Accuracy:  0.7139446036294174\n"
          ]
        }
      ],
      "source": [
        "# Test Model\n",
        "\n",
        "def test_model(pipe_, X_train_, y_train_, X_test_, y_test_):\n",
        "\n",
        "    fitted = pipe_.predict(X_train_)\n",
        "    print('Train Accuracy: ', accuracy_score(y_train_, fitted))\n",
        "\n",
        "    X_test_ = clean_text(X_test_)\n",
        "    preds = pipe_.predict(X_test_)\n",
        "    print('Test Accuracy: ', accuracy_score(y_test_, preds))    \n",
        "\n",
        "test_model(pipe, X_train1, y_train1, X_test, y_test)"
      ]
    },
    {
      "cell_type": "markdown",
      "metadata": {
        "id": "ufJuYfuf9_Eo"
      },
      "source": [
        "# Hybrid Model - LightGBM with SBERT encodings"
      ]
    },
    {
      "cell_type": "code",
      "execution_count": 20,
      "metadata": {
        "id": "oGEzhofC-Cuy"
      },
      "outputs": [],
      "source": [
        "%%capture\n",
        "\n",
        "sbert_model = SentenceTransformer('bert-base-nli-mean-tokens')"
      ]
    },
    {
      "cell_type": "code",
      "execution_count": 21,
      "metadata": {
        "id": "caC5KmLhAxU7"
      },
      "outputs": [],
      "source": [
        "def encode_text(X):\n",
        "\n",
        "    X = X.apply(lambda x: sbert_model.encode(x))\n",
        "    X = X.apply(pd.Series)\n",
        "\n",
        "    return X\n",
        "\n",
        "X_train1 = encode_text(X_train)"
      ]
    },
    {
      "cell_type": "code",
      "execution_count": 22,
      "metadata": {
        "id": "GzYPDJeg-C2Z"
      },
      "outputs": [],
      "source": [
        "# Use Optuna for tuning LightGBM with pruning callbacks\n",
        "\n",
        "class Objective2:\n",
        "    \n",
        "    def __init__(self):\n",
        "        self.best_booster = None\n",
        "        self._booster = None\n",
        "    \n",
        "    def __call__(self, trial, X, y):\n",
        "        \n",
        "        param_grid = {\n",
        "        \"n_estimators\": trial.suggest_categorical(\"n_estimators\", [50,100,300]),\n",
        "        \"learning_rate\": trial.suggest_loguniform(\"learning_rate\", 0.01, 0.1),\n",
        "        \"num_leaves\": trial.suggest_int('num_leaves', 16, 128),\n",
        "        \"max_depth\": trial.suggest_int(\"max_depth\", 4, 10),\n",
        "        \"min_data_in_leaf\": trial.suggest_int(\"min_data_in_leaf\", 5, 100, step=5),\n",
        "        \"max_bin\": trial.suggest_int(\"max_bin\", 10, 50),\n",
        "        \"lambda_l1\": trial.suggest_loguniform('lambda_l1', 1e-6, 10),\n",
        "        \"lambda_l2\": trial.suggest_loguniform('lambda_l2', 1e-6, 10),\n",
        "        \"min_gain_to_split\": trial.suggest_float(\"min_gain_to_split\", 0, 1),\n",
        "        \"bagging_fraction\": trial.suggest_uniform('bagging_fraction', 0.3, 0.9),\n",
        "        \"bagging_freq\": trial.suggest_int('bagging_freq', 1, 5),\n",
        "        \"feature_fraction\": trial.suggest_uniform('feature_fraction', 0.2, 0.8),\n",
        "        \"early_stopping_rounds\": trial.suggest_categorical(\"early_stopping_rounds\", [100]),\n",
        "        }\n",
        "\n",
        "        param2 = {\"n\": trial.suggest_int(\"n\", 50, 300, step=10)}\n",
        "\n",
        "        pipe_a = Pipeline(steps=[('select_features', select_features(**param2, est=LGBMClassifier()))])\n",
        "        pipe_b = Pipeline(steps=[('modeler', LGBMClassifier(objective='multiclass', **param_grid, random_state=123))])\n",
        "        \n",
        "        cv = StratifiedKFold(n_splits=5, shuffle=True, random_state=123)\n",
        "        cv_scores = np.empty(5)\n",
        "    \n",
        "        for idx, (train_idx, val_idx) in enumerate(cv.split(X, y)):\n",
        "        \n",
        "            X_train, X_val = X.iloc[train_idx], X.iloc[val_idx]\n",
        "            y_train, y_val = y.iloc[train_idx], y.iloc[val_idx]\n",
        "\n",
        "            pipe_a.fit(X_train,y_train)\n",
        "            X_train = pipe_a.transform(X_train)\n",
        "            X_val = pipe_a.transform(X_val)\n",
        "\n",
        "            pipe_b.fit(\n",
        "                X_train,\n",
        "                y_train,\n",
        "                modeler__eval_set=[(X_val,y_val)],\n",
        "                modeler__eval_metric='multi_logloss',\n",
        "                modeler__callbacks=[LightGBMPruningCallback(trial, \"multi_logloss\")],\n",
        "                modeler__verbose=0\n",
        "            )\n",
        "\n",
        "            preds = pipe_b.predict(X_val)\n",
        "            cv_scores[idx] = accuracy_score(y_val, preds)\n",
        "        \n",
        "        self._booster = pipe_b['modeler']\n",
        "        \n",
        "        return np.mean(cv_scores)\n",
        "\n",
        "    def callback(self, study, trial):\n",
        "        \n",
        "        if study.best_trial == trial:\n",
        "            self.best_booster = self._booster\n",
        "\n",
        "\n",
        "def optuna_tuning2(X, y, ntrials):\n",
        "    \n",
        "    objective = Objective2()\n",
        "\n",
        "    study = optuna.create_study(pruner=optuna.pruners.MedianPruner(n_warmup_steps=1),\n",
        "                            direction=\"minimize\", study_name=\"LGBM Classifier\")\n",
        "    func = lambda trial: objective(trial, X, y)\n",
        "    study.optimize(func, n_trials=ntrials, callbacks=[objective.callback])\n",
        "\n",
        "    for key, value in study.best_params.items():\n",
        "        print(f\"\\t\\t{key}: {value}\")   \n",
        "    \n",
        "    print('Best value: ',study.best_value)\n",
        "    print('Best iterations: ',objective.best_booster.best_iteration_)\n"
      ]
    },
    {
      "cell_type": "code",
      "execution_count": 23,
      "metadata": {
        "id": "1ksraCri-C7h"
      },
      "outputs": [],
      "source": [
        "# # Call the tuning function (commented out so that it doesn't execute on Run All)\n",
        "\n",
        "# optuna_tuning2(X_train1, y_train, 100) # uncomment for tuning"
      ]
    },
    {
      "cell_type": "code",
      "execution_count": 24,
      "metadata": {
        "id": "eDQJj9onmcKl"
      },
      "outputs": [],
      "source": [
        "# Best hyperparameters from Optuna tuning\n",
        "\n",
        "best_params = {'n_estimators': 100, \n",
        "               'learning_rate': 0.07492604515955112,\n",
        "\t\t\t\t\t\t\t\t'num_leaves': 42, \n",
        "\t\t\t\t\t\t\t\t'max_depth': 6, \n",
        "\t\t\t\t\t\t\t\t'min_data_in_leaf': 125, \n",
        "\t\t\t\t\t\t\t\t'max_bin': 26, \n",
        "\t\t\t\t\t\t\t\t'lambda_l1': 0.18444616280624587, \n",
        "\t\t\t\t\t\t\t\t'lambda_l2': 0.27499128330945698, \n",
        "\t\t\t\t\t\t\t\t'min_gain_to_split': 0.2021432257519862, \n",
        "\t\t\t\t\t\t\t\t'bagging_fraction': 0.4322962210982496, \n",
        "\t\t\t\t\t\t\t\t'bagging_freq': 4, \n",
        "\t\t\t\t\t\t\t\t'feature_fraction': 0.3472868578035121, \n",
        "\t\t\t\t\t\t\t\t'n': 200}\n"
      ]
    },
    {
      "cell_type": "code",
      "execution_count": 25,
      "metadata": {
        "id": "TLXm9BlVItUa"
      },
      "outputs": [],
      "source": [
        "# Retrain model on full Training data using best hyperparameters\n",
        "\n",
        "def retrain2(X_train_, y_train_):\n",
        "    \n",
        "    model1 = LGBMClassifier(objective='multiclass',**best_params, random_state=123)\n",
        "\n",
        "    pipe_ = Pipeline(steps=[('select_features', select_features(n=best_params['n'],est=model1)),\n",
        "                      ('modeler', model1)])\n",
        "\n",
        "    pipe_.fit(X_train_,y_train_)\n",
        "\n",
        "    return pipe_, X_train_,y_train_\n",
        "\n",
        "pipe, X_train1, y_train1 = retrain2(X_train1, y_train)"
      ]
    },
    {
      "cell_type": "code",
      "execution_count": 26,
      "metadata": {
        "colab": {
          "base_uri": "https://localhost:8080/"
        },
        "id": "1UYm_hZL-DBf",
        "outputId": "0ba50eed-d882-4d5d-ea11-ffbed15308ef"
      },
      "outputs": [
        {
          "output_type": "stream",
          "name": "stdout",
          "text": [
            "Train Accuracy:  0.973124701385571\n",
            "Test Accuracy:  0.8127984718242598\n"
          ]
        }
      ],
      "source": [
        "# Test Model\n",
        "\n",
        "def test_model2(pipe_, X_train_,y_train_, X_test_, y_test_):\n",
        "\n",
        "    fitted = pipe_.predict(X_train_)\n",
        "    print('Train Accuracy: ', accuracy_score(y_train_, fitted))\n",
        "\n",
        "    X_test_ = encode_text(X_test_)    \n",
        "    preds = pipe_.predict(X_test_)\n",
        "    print('Test Accuracy: ', accuracy_score(y_test_, preds))\n",
        "\n",
        "test_model2(pipe, X_train1, y_train1, X_test, y_test)"
      ]
    },
    {
      "cell_type": "markdown",
      "metadata": {
        "id": "2CtL-qjMiS2p"
      },
      "source": [
        "# DistilBERT"
      ]
    },
    {
      "cell_type": "code",
      "execution_count": 27,
      "metadata": {
        "id": "eeECPhADn33g",
        "colab": {
          "base_uri": "https://localhost:8080/",
          "height": 113,
          "referenced_widgets": [
            "d9334157360a4aeab00742ab3e4c3f06",
            "fc3e00101d2d459c8a1136574916ad1c",
            "2bcfbc203296468080f5dcf6487f04ee",
            "bb826b09258a4457ad568a5acbc4f683",
            "f0377b2dbf91445a9f96d9032bd5f873",
            "280af4e9482f4445b295d61d0ff3811f",
            "aac548e9b2e842ee86b2ca1aaf6588e3",
            "8ebb6b6a9a66419a866a706b9ac9cb5a",
            "1820247d8a5e43fc881a31ae598ae835",
            "176e89e4a26643b7a7560240c66cc42b",
            "76752a66305948f4815ebb5bebc3c22e",
            "6443bff9e572401a8da4a9f6f9426efb",
            "245857dd788f470a825fd0205028cda4",
            "efb78194a12e46a89106501149db25ac",
            "a21071f16efe4d47bf7bdb49d5b24bf0",
            "9d2bdf1c4f8f4fb9a294b0de9c716632",
            "2a1dce061fd74e62909644ff89e400dd",
            "d7987beb4663467bbb01f46aba8681ab",
            "a15731e08600422db82d81d7b1e907f2",
            "8a53a90a833845b9a977ae4bbfa9bb37",
            "3d7d86f0328e4712a22cd359a5651cc4",
            "d88ec90fe6264b3783cde075f495d02a",
            "4c1bc656287d4a73bb13840b6356bc0a",
            "2eb0adb48f294954b35c9616442d18fa",
            "9e4064c16ce14cd1a25b26812888817a",
            "82381438b56742e1b8d264735ad1348a",
            "1e57a9101052456486d5be7aa55c4ce8",
            "adadbfc481564c3f9a66bed61965119f",
            "33462d77ed8d4fafa2d8c45789e56c87",
            "cdb0fc18b7254e0aad5a4e82789e1ba5",
            "677727607eca4e219eda835e212d9478",
            "db934baeef92409185a9992d3882869e",
            "6e5809ca2f8749aebdf4e74e8ea6b419"
          ]
        },
        "outputId": "35298b04-f4fd-4df9-fe39-6a79602f6007"
      },
      "outputs": [
        {
          "output_type": "display_data",
          "data": {
            "text/plain": [
              "Downloading:   0%|          | 0.00/226k [00:00<?, ?B/s]"
            ],
            "application/vnd.jupyter.widget-view+json": {
              "version_major": 2,
              "version_minor": 0,
              "model_id": "d9334157360a4aeab00742ab3e4c3f06"
            }
          },
          "metadata": {}
        },
        {
          "output_type": "display_data",
          "data": {
            "text/plain": [
              "Downloading:   0%|          | 0.00/28.0 [00:00<?, ?B/s]"
            ],
            "application/vnd.jupyter.widget-view+json": {
              "version_major": 2,
              "version_minor": 0,
              "model_id": "6443bff9e572401a8da4a9f6f9426efb"
            }
          },
          "metadata": {}
        },
        {
          "output_type": "display_data",
          "data": {
            "text/plain": [
              "Downloading:   0%|          | 0.00/483 [00:00<?, ?B/s]"
            ],
            "application/vnd.jupyter.widget-view+json": {
              "version_major": 2,
              "version_minor": 0,
              "model_id": "4c1bc656287d4a73bb13840b6356bc0a"
            }
          },
          "metadata": {}
        }
      ],
      "source": [
        "dbert_tokenizer = DistilBertTokenizer.from_pretrained('distilbert-base-uncased')\n"
      ]
    },
    {
      "cell_type": "code",
      "execution_count": 28,
      "metadata": {
        "id": "MAY4hol3qurH"
      },
      "outputs": [],
      "source": [
        "# Split train data into train and val\n",
        "# Encode target using label binarizer\n",
        "\n",
        "def prep_data(X,y):\n",
        "\n",
        "    # Encode Target\n",
        "    lb1 = preprocessing.LabelBinarizer()\n",
        "    y_train_val_ = lb1.fit_transform(y)\n",
        "    \n",
        "    X_train_val_ = X_train.copy()\n",
        "\n",
        "    X_train_, X_val_, y_train_, y_val_ = train_test_split(X_train_val_, y_train_val_, test_size=0.2, random_state=123)\n",
        "\n",
        "    return X_train_, X_val_, y_train_, y_val_, X_train_val_, y_train_val_, lb1\n",
        "\n",
        "X_train1, X_val1, y_train1, y_val1, X_train_val, y_train_val, lb = prep_data(X_train,y_train)"
      ]
    },
    {
      "cell_type": "code",
      "execution_count": 29,
      "metadata": {
        "id": "oljs-N63iaMD"
      },
      "outputs": [],
      "source": [
        "# Encode text using dbert_tokenizer\n",
        "\n",
        "def encode_text(X):\n",
        "\n",
        "    text = [x for x in  X]\n",
        "    output = dbert_tokenizer(text, return_tensors='tf', padding='max_length', truncation=True, max_length=64)\n",
        "    input_ids = output[\"input_ids\"]\n",
        "    attention_mask = output[\"attention_mask\"]\n",
        "\n",
        "    return input_ids, attention_mask\n",
        "\n",
        "train_input, train_mask = encode_text(X_train1)\n",
        "val_input, val_mask = encode_text(X_val1)"
      ]
    },
    {
      "cell_type": "code",
      "execution_count": 30,
      "metadata": {
        "colab": {
          "base_uri": "https://localhost:8080/",
          "height": 624,
          "referenced_widgets": [
            "fefc1268edce4a2ba1785a4ac13cebe0",
            "cd1963bca0e84464a1da7799e386c19d",
            "225b3c6fccde434eb7c28257a1b1129e",
            "85b08e9a0c404362b3d522d8f614ff73",
            "9d5212e6c52044a6a600f9bb72bb26fd",
            "d6c653db9f2c4589be16d135a1151a70",
            "99a9ba2be40343aaa21f16438d901aea",
            "80b23e44dd414c318db64d23f60703cb",
            "d5e2d8635dc0423b990936c5b3ab397d",
            "65a40d0471ef4174a2975d53479ce23f",
            "14b72d9b8da5447b8bf7a3b238d6c4dd"
          ]
        },
        "id": "HoueiFqZiaO5",
        "outputId": "16b1645a-e73c-4673-aaf4-ce222d1f8ad2"
      },
      "outputs": [
        {
          "output_type": "display_data",
          "data": {
            "text/plain": [
              "Downloading:   0%|          | 0.00/347M [00:00<?, ?B/s]"
            ],
            "application/vnd.jupyter.widget-view+json": {
              "version_major": 2,
              "version_minor": 0,
              "model_id": "fefc1268edce4a2ba1785a4ac13cebe0"
            }
          },
          "metadata": {}
        },
        {
          "output_type": "stream",
          "name": "stderr",
          "text": [
            "Some layers from the model checkpoint at distilbert-base-uncased were not used when initializing TFDistilBertModel: ['vocab_projector', 'activation_13', 'vocab_transform', 'vocab_layer_norm']\n",
            "- This IS expected if you are initializing TFDistilBertModel from the checkpoint of a model trained on another task or with another architecture (e.g. initializing a BertForSequenceClassification model from a BertForPreTraining model).\n",
            "- This IS NOT expected if you are initializing TFDistilBertModel from the checkpoint of a model that you expect to be exactly identical (initializing a BertForSequenceClassification model from a BertForSequenceClassification model).\n",
            "All the layers of TFDistilBertModel were initialized from the model checkpoint at distilbert-base-uncased.\n",
            "If your task is similar to the task the model of the checkpoint was trained on, you can already use TFDistilBertModel for predictions without further training.\n"
          ]
        },
        {
          "output_type": "stream",
          "name": "stdout",
          "text": [
            "Model: \"model\"\n",
            "__________________________________________________________________________________________________\n",
            " Layer (type)                   Output Shape         Param #     Connected to                     \n",
            "==================================================================================================\n",
            " inputs (InputLayer)            [(None, 64)]         0           []                               \n",
            "                                                                                                  \n",
            " masks (InputLayer)             [(None, 64)]         0           []                               \n",
            "                                                                                                  \n",
            " tf_distil_bert_model (TFDistil  TFBaseModelOutput(l  66362880   ['inputs[0][0]',                 \n",
            " BertModel)                     ast_hidden_state=(N               'masks[0][0]']                  \n",
            "                                one, 64, 768),                                                    \n",
            "                                 hidden_states=None                                               \n",
            "                                , attentions=None)                                                \n",
            "                                                                                                  \n",
            " tf.__operators__.getitem (Slic  (None, 768)         0           ['tf_distil_bert_model[0][0]']   \n",
            " ingOpLambda)                                                                                     \n",
            "                                                                                                  \n",
            " dropout_19 (Dropout)           (None, 768)          0           ['tf.__operators__.getitem[0][0]'\n",
            "                                                                 ]                                \n",
            "                                                                                                  \n",
            " dense (Dense)                  (None, 77)           59213       ['dropout_19[0][0]']             \n",
            "                                                                                                  \n",
            "==================================================================================================\n",
            "Total params: 66,422,093\n",
            "Trainable params: 66,422,093\n",
            "Non-trainable params: 0\n",
            "__________________________________________________________________________________________________\n"
          ]
        }
      ],
      "source": [
        "def build_model(base_model, trainable, train_in, dropout1):\n",
        "\n",
        "    max_seq_len = train_in.shape[1]\n",
        "\n",
        "    inputs = Input(shape=(max_seq_len,),name='inputs', dtype=tf.int64)\n",
        "    masks = Input(shape=(max_seq_len,),name='masks', dtype=tf.int64)\n",
        "\n",
        "    base_model.trainable = trainable\n",
        "\n",
        "    dbert_output = base_model(inputs, attention_mask=masks)\n",
        "    # dbert_last_hidden_state gets you the output encoding for each of your tokens.\n",
        "    # Each such encoding is a vector with 768 values. The first token fed into the model is [cls]\n",
        "    # which can be used to build a sentence classification network\n",
        "    dbert_last_hidden_state = dbert_output.last_hidden_state\n",
        "\n",
        "    dbert = dbert_last_hidden_state[:,0,:]\n",
        "\n",
        "    my_output = Dropout(dropout1)(dbert)\n",
        "\n",
        "    probs = Dense(77, activation='sigmoid')(my_output)\n",
        "\n",
        "    model = keras.Model(inputs=[inputs, masks], outputs=probs)\n",
        "    model.summary()\n",
        "\n",
        "    return model\n",
        "\n",
        "dbert_model = TFDistilBertModel.from_pretrained('distilbert-base-uncased')\n",
        "\n",
        "model = build_model(dbert_model, trainable=True, train_in=train_input, dropout1=0.5)\n"
      ]
    },
    {
      "cell_type": "code",
      "execution_count": 31,
      "metadata": {
        "id": "1ehiheXniaRo"
      },
      "outputs": [],
      "source": [
        "def compile_model(model):\n",
        "    \n",
        "    loss = keras.losses.CategoricalCrossentropy()\n",
        "    optimizer = keras.optimizers.Adam(learning_rate=1e-4)\n",
        "    model.compile(optimizer=optimizer, loss=[loss, loss], metrics=CategoricalAccuracy('accuracy'))\n",
        "\n",
        "    return model\n",
        "\n",
        "model = compile_model(model)"
      ]
    },
    {
      "cell_type": "code",
      "execution_count": 32,
      "metadata": {
        "colab": {
          "base_uri": "https://localhost:8080/"
        },
        "id": "xVy3iEN0iaT9",
        "outputId": "636b631f-1d7f-4f54-cf9e-061d89cc7bea"
      },
      "outputs": [
        {
          "output_type": "stream",
          "name": "stdout",
          "text": [
            "Epoch 1/5\n",
            "27/27 [==============================] - 33s 940ms/step - loss: 3.2758 - accuracy: 0.2356 - val_loss: 1.3033 - val_accuracy: 0.6812\n",
            "Epoch 2/5\n",
            "27/27 [==============================] - 24s 887ms/step - loss: 0.9766 - accuracy: 0.7469 - val_loss: 0.5943 - val_accuracy: 0.8376\n",
            "Epoch 3/5\n",
            "27/27 [==============================] - 24s 888ms/step - loss: 0.4529 - accuracy: 0.8789 - val_loss: 0.4166 - val_accuracy: 0.8884\n",
            "Epoch 4/5\n",
            "27/27 [==============================] - 24s 887ms/step - loss: 0.2443 - accuracy: 0.9356 - val_loss: 0.3920 - val_accuracy: 0.8967\n",
            "Epoch 5/5\n",
            "27/27 [==============================] - 24s 888ms/step - loss: 0.1514 - accuracy: 0.9636 - val_loss: 0.3537 - val_accuracy: 0.9057\n"
          ]
        }
      ],
      "source": [
        "def train_model(model1, train_input, train_mask, y_train, y_val, val_input, val_mask, batch_size, num_epochs):\n",
        "    \n",
        "    history = model1.fit([train_input,train_mask], y_train, \n",
        "                        validation_data=([val_input,val_mask],y_val),\n",
        "                        batch_size=batch_size, epochs=num_epochs, verbose=1,)\n",
        "    \n",
        "    return history\n",
        "\n",
        "history = train_model(model, train_input, train_mask, y_train1,\n",
        "                             y_val1, val_input, val_mask,\n",
        "                             batch_size=256, \n",
        "                             num_epochs=5,\n",
        "                             )"
      ]
    },
    {
      "cell_type": "code",
      "execution_count": 33,
      "metadata": {
        "colab": {
          "base_uri": "https://localhost:8080/"
        },
        "id": "cI__X9SdepQ2",
        "outputId": "5f886cd7-3059-467d-fb4a-c5e43c26264d"
      },
      "outputs": [
        {
          "output_type": "stream",
          "name": "stdout",
          "text": [
            "Epoch 1/5\n",
            "33/33 [==============================] - 28s 833ms/step - loss: 0.1716 - accuracy: 0.9565\n",
            "Epoch 2/5\n",
            "33/33 [==============================] - 28s 834ms/step - loss: 0.0970 - accuracy: 0.9753\n",
            "Epoch 3/5\n",
            "33/33 [==============================] - 28s 834ms/step - loss: 0.0540 - accuracy: 0.9885\n",
            "Epoch 4/5\n",
            "33/33 [==============================] - 28s 835ms/step - loss: 0.0380 - accuracy: 0.9921\n",
            "Epoch 5/5\n",
            "33/33 [==============================] - 28s 835ms/step - loss: 0.0324 - accuracy: 0.9933\n"
          ]
        }
      ],
      "source": [
        "# Retrain model on full dataset\n",
        "\n",
        "def retrain_model(X_train_, y_train_, model1):\n",
        "  \n",
        "    all_input, all_mask = encode_text(X_train_)\n",
        "\n",
        "    model1.fit([all_input, all_mask], y_train_, batch_size=256, epochs=5)\n",
        "  \n",
        "    return model1\n",
        "\n",
        "model_final = retrain_model(X_train_val, y_train_val, model)"
      ]
    },
    {
      "cell_type": "code",
      "execution_count": 71,
      "metadata": {
        "colab": {
          "base_uri": "https://localhost:8080/"
        },
        "id": "jU_nlwVoe15o",
        "outputId": "37418ce9-0fc9-468b-91aa-06dd4c466bd7"
      },
      "outputs": [
        {
          "output_type": "stream",
          "name": "stdout",
          "text": [
            "Test Accuracy:  0.9173829990448902\n"
          ]
        }
      ],
      "source": [
        "# Test Model\n",
        "\n",
        "def predict_test(model1, X_test_, y_test_, lb_encoder):\n",
        "\n",
        "    test_input, test_mask = encode_text(X_test_)\n",
        "\n",
        "    pred = model1.predict([test_input, test_mask])\n",
        "\n",
        "    pred2=lb_encoder.inverse_transform(pred)\n",
        "\n",
        "    print('Test Accuracy: ', accuracy_score(y_test_, pred2))\n",
        "\n",
        "    clf = classification_report(y_test_, pred2, output_dict=True)\n",
        "    report = pd.DataFrame(clf).T\n",
        "    report = report[:-3].sort_values('f1-score')\n",
        "\n",
        "    return report\n",
        "\n",
        "clf_report = predict_test(model_final, X_test, y_test, lb)"
      ]
    },
    {
      "cell_type": "code",
      "source": [
        "pd.set_option('display.max_rows', 100)\n",
        "print('Lowest 5 F1 Scores:')\n",
        "display(clf_report.head())\n",
        "print('\\n')\n",
        "print('Highest 5 F1 Scores:')\n",
        "display(clf_report.tail())\n"
      ],
      "metadata": {
        "colab": {
          "base_uri": "https://localhost:8080/",
          "height": 465
        },
        "id": "UJChgcqez9QL",
        "outputId": "d91a25a6-c58d-4967-d870-0b03a760099d"
      },
      "execution_count": 74,
      "outputs": [
        {
          "output_type": "stream",
          "name": "stdout",
          "text": [
            "Lowest 5 F1 Scores:\n"
          ]
        },
        {
          "output_type": "display_data",
          "data": {
            "text/plain": [
              "                                    precision    recall  f1-score  support\n",
              "topping_up_by_card                   0.652174  0.882353  0.750000     17.0\n",
              "pending_transfer                     1.000000  0.633333  0.775510     30.0\n",
              "top_up_failed                        0.710526  0.900000  0.794118     30.0\n",
              "transfer_not_received_by_recipient   0.744681  0.853659  0.795455     41.0\n",
              "pending_top_up                       0.960000  0.685714  0.800000     35.0"
            ],
            "text/html": [
              "\n",
              "  <div id=\"df-5b22ba82-3b56-448e-898b-e1e5929af96f\">\n",
              "    <div class=\"colab-df-container\">\n",
              "      <div>\n",
              "<style scoped>\n",
              "    .dataframe tbody tr th:only-of-type {\n",
              "        vertical-align: middle;\n",
              "    }\n",
              "\n",
              "    .dataframe tbody tr th {\n",
              "        vertical-align: top;\n",
              "    }\n",
              "\n",
              "    .dataframe thead th {\n",
              "        text-align: right;\n",
              "    }\n",
              "</style>\n",
              "<table border=\"1\" class=\"dataframe\">\n",
              "  <thead>\n",
              "    <tr style=\"text-align: right;\">\n",
              "      <th></th>\n",
              "      <th>precision</th>\n",
              "      <th>recall</th>\n",
              "      <th>f1-score</th>\n",
              "      <th>support</th>\n",
              "    </tr>\n",
              "  </thead>\n",
              "  <tbody>\n",
              "    <tr>\n",
              "      <th>topping_up_by_card</th>\n",
              "      <td>0.652174</td>\n",
              "      <td>0.882353</td>\n",
              "      <td>0.750000</td>\n",
              "      <td>17.0</td>\n",
              "    </tr>\n",
              "    <tr>\n",
              "      <th>pending_transfer</th>\n",
              "      <td>1.000000</td>\n",
              "      <td>0.633333</td>\n",
              "      <td>0.775510</td>\n",
              "      <td>30.0</td>\n",
              "    </tr>\n",
              "    <tr>\n",
              "      <th>top_up_failed</th>\n",
              "      <td>0.710526</td>\n",
              "      <td>0.900000</td>\n",
              "      <td>0.794118</td>\n",
              "      <td>30.0</td>\n",
              "    </tr>\n",
              "    <tr>\n",
              "      <th>transfer_not_received_by_recipient</th>\n",
              "      <td>0.744681</td>\n",
              "      <td>0.853659</td>\n",
              "      <td>0.795455</td>\n",
              "      <td>41.0</td>\n",
              "    </tr>\n",
              "    <tr>\n",
              "      <th>pending_top_up</th>\n",
              "      <td>0.960000</td>\n",
              "      <td>0.685714</td>\n",
              "      <td>0.800000</td>\n",
              "      <td>35.0</td>\n",
              "    </tr>\n",
              "  </tbody>\n",
              "</table>\n",
              "</div>\n",
              "      <button class=\"colab-df-convert\" onclick=\"convertToInteractive('df-5b22ba82-3b56-448e-898b-e1e5929af96f')\"\n",
              "              title=\"Convert this dataframe to an interactive table.\"\n",
              "              style=\"display:none;\">\n",
              "        \n",
              "  <svg xmlns=\"http://www.w3.org/2000/svg\" height=\"24px\"viewBox=\"0 0 24 24\"\n",
              "       width=\"24px\">\n",
              "    <path d=\"M0 0h24v24H0V0z\" fill=\"none\"/>\n",
              "    <path d=\"M18.56 5.44l.94 2.06.94-2.06 2.06-.94-2.06-.94-.94-2.06-.94 2.06-2.06.94zm-11 1L8.5 8.5l.94-2.06 2.06-.94-2.06-.94L8.5 2.5l-.94 2.06-2.06.94zm10 10l.94 2.06.94-2.06 2.06-.94-2.06-.94-.94-2.06-.94 2.06-2.06.94z\"/><path d=\"M17.41 7.96l-1.37-1.37c-.4-.4-.92-.59-1.43-.59-.52 0-1.04.2-1.43.59L10.3 9.45l-7.72 7.72c-.78.78-.78 2.05 0 2.83L4 21.41c.39.39.9.59 1.41.59.51 0 1.02-.2 1.41-.59l7.78-7.78 2.81-2.81c.8-.78.8-2.07 0-2.86zM5.41 20L4 18.59l7.72-7.72 1.47 1.35L5.41 20z\"/>\n",
              "  </svg>\n",
              "      </button>\n",
              "      \n",
              "  <style>\n",
              "    .colab-df-container {\n",
              "      display:flex;\n",
              "      flex-wrap:wrap;\n",
              "      gap: 12px;\n",
              "    }\n",
              "\n",
              "    .colab-df-convert {\n",
              "      background-color: #E8F0FE;\n",
              "      border: none;\n",
              "      border-radius: 50%;\n",
              "      cursor: pointer;\n",
              "      display: none;\n",
              "      fill: #1967D2;\n",
              "      height: 32px;\n",
              "      padding: 0 0 0 0;\n",
              "      width: 32px;\n",
              "    }\n",
              "\n",
              "    .colab-df-convert:hover {\n",
              "      background-color: #E2EBFA;\n",
              "      box-shadow: 0px 1px 2px rgba(60, 64, 67, 0.3), 0px 1px 3px 1px rgba(60, 64, 67, 0.15);\n",
              "      fill: #174EA6;\n",
              "    }\n",
              "\n",
              "    [theme=dark] .colab-df-convert {\n",
              "      background-color: #3B4455;\n",
              "      fill: #D2E3FC;\n",
              "    }\n",
              "\n",
              "    [theme=dark] .colab-df-convert:hover {\n",
              "      background-color: #434B5C;\n",
              "      box-shadow: 0px 1px 3px 1px rgba(0, 0, 0, 0.15);\n",
              "      filter: drop-shadow(0px 1px 2px rgba(0, 0, 0, 0.3));\n",
              "      fill: #FFFFFF;\n",
              "    }\n",
              "  </style>\n",
              "\n",
              "      <script>\n",
              "        const buttonEl =\n",
              "          document.querySelector('#df-5b22ba82-3b56-448e-898b-e1e5929af96f button.colab-df-convert');\n",
              "        buttonEl.style.display =\n",
              "          google.colab.kernel.accessAllowed ? 'block' : 'none';\n",
              "\n",
              "        async function convertToInteractive(key) {\n",
              "          const element = document.querySelector('#df-5b22ba82-3b56-448e-898b-e1e5929af96f');\n",
              "          const dataTable =\n",
              "            await google.colab.kernel.invokeFunction('convertToInteractive',\n",
              "                                                     [key], {});\n",
              "          if (!dataTable) return;\n",
              "\n",
              "          const docLinkHtml = 'Like what you see? Visit the ' +\n",
              "            '<a target=\"_blank\" href=https://colab.research.google.com/notebooks/data_table.ipynb>data table notebook</a>'\n",
              "            + ' to learn more about interactive tables.';\n",
              "          element.innerHTML = '';\n",
              "          dataTable['output_type'] = 'display_data';\n",
              "          await google.colab.output.renderOutput(dataTable, element);\n",
              "          const docLink = document.createElement('div');\n",
              "          docLink.innerHTML = docLinkHtml;\n",
              "          element.appendChild(docLink);\n",
              "        }\n",
              "      </script>\n",
              "    </div>\n",
              "  </div>\n",
              "  "
            ]
          },
          "metadata": {}
        },
        {
          "output_type": "stream",
          "name": "stdout",
          "text": [
            "\n",
            "\n",
            "Highest 5 F1 Scores:\n"
          ]
        },
        {
          "output_type": "display_data",
          "data": {
            "text/plain": [
              "                         precision  recall  f1-score  support\n",
              "apple_pay_or_google_pay        1.0     1.0       1.0     27.0\n",
              "top_up_limits                  1.0     1.0       1.0     22.0\n",
              "visa_or_mastercard             1.0     1.0       1.0     26.0\n",
              "age_limit                      1.0     1.0       1.0     33.0\n",
              "getting_virtual_card           1.0     1.0       1.0     10.0"
            ],
            "text/html": [
              "\n",
              "  <div id=\"df-08c6764d-82f0-4139-ac76-43f8edc7b69a\">\n",
              "    <div class=\"colab-df-container\">\n",
              "      <div>\n",
              "<style scoped>\n",
              "    .dataframe tbody tr th:only-of-type {\n",
              "        vertical-align: middle;\n",
              "    }\n",
              "\n",
              "    .dataframe tbody tr th {\n",
              "        vertical-align: top;\n",
              "    }\n",
              "\n",
              "    .dataframe thead th {\n",
              "        text-align: right;\n",
              "    }\n",
              "</style>\n",
              "<table border=\"1\" class=\"dataframe\">\n",
              "  <thead>\n",
              "    <tr style=\"text-align: right;\">\n",
              "      <th></th>\n",
              "      <th>precision</th>\n",
              "      <th>recall</th>\n",
              "      <th>f1-score</th>\n",
              "      <th>support</th>\n",
              "    </tr>\n",
              "  </thead>\n",
              "  <tbody>\n",
              "    <tr>\n",
              "      <th>apple_pay_or_google_pay</th>\n",
              "      <td>1.0</td>\n",
              "      <td>1.0</td>\n",
              "      <td>1.0</td>\n",
              "      <td>27.0</td>\n",
              "    </tr>\n",
              "    <tr>\n",
              "      <th>top_up_limits</th>\n",
              "      <td>1.0</td>\n",
              "      <td>1.0</td>\n",
              "      <td>1.0</td>\n",
              "      <td>22.0</td>\n",
              "    </tr>\n",
              "    <tr>\n",
              "      <th>visa_or_mastercard</th>\n",
              "      <td>1.0</td>\n",
              "      <td>1.0</td>\n",
              "      <td>1.0</td>\n",
              "      <td>26.0</td>\n",
              "    </tr>\n",
              "    <tr>\n",
              "      <th>age_limit</th>\n",
              "      <td>1.0</td>\n",
              "      <td>1.0</td>\n",
              "      <td>1.0</td>\n",
              "      <td>33.0</td>\n",
              "    </tr>\n",
              "    <tr>\n",
              "      <th>getting_virtual_card</th>\n",
              "      <td>1.0</td>\n",
              "      <td>1.0</td>\n",
              "      <td>1.0</td>\n",
              "      <td>10.0</td>\n",
              "    </tr>\n",
              "  </tbody>\n",
              "</table>\n",
              "</div>\n",
              "      <button class=\"colab-df-convert\" onclick=\"convertToInteractive('df-08c6764d-82f0-4139-ac76-43f8edc7b69a')\"\n",
              "              title=\"Convert this dataframe to an interactive table.\"\n",
              "              style=\"display:none;\">\n",
              "        \n",
              "  <svg xmlns=\"http://www.w3.org/2000/svg\" height=\"24px\"viewBox=\"0 0 24 24\"\n",
              "       width=\"24px\">\n",
              "    <path d=\"M0 0h24v24H0V0z\" fill=\"none\"/>\n",
              "    <path d=\"M18.56 5.44l.94 2.06.94-2.06 2.06-.94-2.06-.94-.94-2.06-.94 2.06-2.06.94zm-11 1L8.5 8.5l.94-2.06 2.06-.94-2.06-.94L8.5 2.5l-.94 2.06-2.06.94zm10 10l.94 2.06.94-2.06 2.06-.94-2.06-.94-.94-2.06-.94 2.06-2.06.94z\"/><path d=\"M17.41 7.96l-1.37-1.37c-.4-.4-.92-.59-1.43-.59-.52 0-1.04.2-1.43.59L10.3 9.45l-7.72 7.72c-.78.78-.78 2.05 0 2.83L4 21.41c.39.39.9.59 1.41.59.51 0 1.02-.2 1.41-.59l7.78-7.78 2.81-2.81c.8-.78.8-2.07 0-2.86zM5.41 20L4 18.59l7.72-7.72 1.47 1.35L5.41 20z\"/>\n",
              "  </svg>\n",
              "      </button>\n",
              "      \n",
              "  <style>\n",
              "    .colab-df-container {\n",
              "      display:flex;\n",
              "      flex-wrap:wrap;\n",
              "      gap: 12px;\n",
              "    }\n",
              "\n",
              "    .colab-df-convert {\n",
              "      background-color: #E8F0FE;\n",
              "      border: none;\n",
              "      border-radius: 50%;\n",
              "      cursor: pointer;\n",
              "      display: none;\n",
              "      fill: #1967D2;\n",
              "      height: 32px;\n",
              "      padding: 0 0 0 0;\n",
              "      width: 32px;\n",
              "    }\n",
              "\n",
              "    .colab-df-convert:hover {\n",
              "      background-color: #E2EBFA;\n",
              "      box-shadow: 0px 1px 2px rgba(60, 64, 67, 0.3), 0px 1px 3px 1px rgba(60, 64, 67, 0.15);\n",
              "      fill: #174EA6;\n",
              "    }\n",
              "\n",
              "    [theme=dark] .colab-df-convert {\n",
              "      background-color: #3B4455;\n",
              "      fill: #D2E3FC;\n",
              "    }\n",
              "\n",
              "    [theme=dark] .colab-df-convert:hover {\n",
              "      background-color: #434B5C;\n",
              "      box-shadow: 0px 1px 3px 1px rgba(0, 0, 0, 0.15);\n",
              "      filter: drop-shadow(0px 1px 2px rgba(0, 0, 0, 0.3));\n",
              "      fill: #FFFFFF;\n",
              "    }\n",
              "  </style>\n",
              "\n",
              "      <script>\n",
              "        const buttonEl =\n",
              "          document.querySelector('#df-08c6764d-82f0-4139-ac76-43f8edc7b69a button.colab-df-convert');\n",
              "        buttonEl.style.display =\n",
              "          google.colab.kernel.accessAllowed ? 'block' : 'none';\n",
              "\n",
              "        async function convertToInteractive(key) {\n",
              "          const element = document.querySelector('#df-08c6764d-82f0-4139-ac76-43f8edc7b69a');\n",
              "          const dataTable =\n",
              "            await google.colab.kernel.invokeFunction('convertToInteractive',\n",
              "                                                     [key], {});\n",
              "          if (!dataTable) return;\n",
              "\n",
              "          const docLinkHtml = 'Like what you see? Visit the ' +\n",
              "            '<a target=\"_blank\" href=https://colab.research.google.com/notebooks/data_table.ipynb>data table notebook</a>'\n",
              "            + ' to learn more about interactive tables.';\n",
              "          element.innerHTML = '';\n",
              "          dataTable['output_type'] = 'display_data';\n",
              "          await google.colab.output.renderOutput(dataTable, element);\n",
              "          const docLink = document.createElement('div');\n",
              "          docLink.innerHTML = docLinkHtml;\n",
              "          element.appendChild(docLink);\n",
              "        }\n",
              "      </script>\n",
              "    </div>\n",
              "  </div>\n",
              "  "
            ]
          },
          "metadata": {}
        }
      ]
    },
    {
      "cell_type": "code",
      "source": [
        ""
      ],
      "metadata": {
        "id": "FGXjFPwC3qXF"
      },
      "execution_count": null,
      "outputs": []
    }
  ],
  "metadata": {
    "accelerator": "GPU",
    "colab": {
      "background_execution": "on",
      "collapsed_sections": [
        "LO-fZBF2QQko",
        "fa6gm-mzAaBD",
        "_FlVhoBqDAzk",
        "mu37EN9xDDbR",
        "ufJuYfuf9_Eo"
      ],
      "machine_shape": "hm",
      "name": "NLP_TopicClassification.ipynb",
      "provenance": []
    },
    "kernelspec": {
      "display_name": "Python 3",
      "name": "python3"
    },
    "language_info": {
      "name": "python"
    },
    "widgets": {
      "application/vnd.jupyter.widget-state+json": {
        "d9334157360a4aeab00742ab3e4c3f06": {
          "model_module": "@jupyter-widgets/controls",
          "model_name": "HBoxModel",
          "model_module_version": "1.5.0",
          "state": {
            "_dom_classes": [],
            "_model_module": "@jupyter-widgets/controls",
            "_model_module_version": "1.5.0",
            "_model_name": "HBoxModel",
            "_view_count": null,
            "_view_module": "@jupyter-widgets/controls",
            "_view_module_version": "1.5.0",
            "_view_name": "HBoxView",
            "box_style": "",
            "children": [
              "IPY_MODEL_fc3e00101d2d459c8a1136574916ad1c",
              "IPY_MODEL_2bcfbc203296468080f5dcf6487f04ee",
              "IPY_MODEL_bb826b09258a4457ad568a5acbc4f683"
            ],
            "layout": "IPY_MODEL_f0377b2dbf91445a9f96d9032bd5f873"
          }
        },
        "fc3e00101d2d459c8a1136574916ad1c": {
          "model_module": "@jupyter-widgets/controls",
          "model_name": "HTMLModel",
          "model_module_version": "1.5.0",
          "state": {
            "_dom_classes": [],
            "_model_module": "@jupyter-widgets/controls",
            "_model_module_version": "1.5.0",
            "_model_name": "HTMLModel",
            "_view_count": null,
            "_view_module": "@jupyter-widgets/controls",
            "_view_module_version": "1.5.0",
            "_view_name": "HTMLView",
            "description": "",
            "description_tooltip": null,
            "layout": "IPY_MODEL_280af4e9482f4445b295d61d0ff3811f",
            "placeholder": "​",
            "style": "IPY_MODEL_aac548e9b2e842ee86b2ca1aaf6588e3",
            "value": "Downloading: 100%"
          }
        },
        "2bcfbc203296468080f5dcf6487f04ee": {
          "model_module": "@jupyter-widgets/controls",
          "model_name": "FloatProgressModel",
          "model_module_version": "1.5.0",
          "state": {
            "_dom_classes": [],
            "_model_module": "@jupyter-widgets/controls",
            "_model_module_version": "1.5.0",
            "_model_name": "FloatProgressModel",
            "_view_count": null,
            "_view_module": "@jupyter-widgets/controls",
            "_view_module_version": "1.5.0",
            "_view_name": "ProgressView",
            "bar_style": "success",
            "description": "",
            "description_tooltip": null,
            "layout": "IPY_MODEL_8ebb6b6a9a66419a866a706b9ac9cb5a",
            "max": 231508,
            "min": 0,
            "orientation": "horizontal",
            "style": "IPY_MODEL_1820247d8a5e43fc881a31ae598ae835",
            "value": 231508
          }
        },
        "bb826b09258a4457ad568a5acbc4f683": {
          "model_module": "@jupyter-widgets/controls",
          "model_name": "HTMLModel",
          "model_module_version": "1.5.0",
          "state": {
            "_dom_classes": [],
            "_model_module": "@jupyter-widgets/controls",
            "_model_module_version": "1.5.0",
            "_model_name": "HTMLModel",
            "_view_count": null,
            "_view_module": "@jupyter-widgets/controls",
            "_view_module_version": "1.5.0",
            "_view_name": "HTMLView",
            "description": "",
            "description_tooltip": null,
            "layout": "IPY_MODEL_176e89e4a26643b7a7560240c66cc42b",
            "placeholder": "​",
            "style": "IPY_MODEL_76752a66305948f4815ebb5bebc3c22e",
            "value": " 226k/226k [00:00&lt;00:00, 644kB/s]"
          }
        },
        "f0377b2dbf91445a9f96d9032bd5f873": {
          "model_module": "@jupyter-widgets/base",
          "model_name": "LayoutModel",
          "model_module_version": "1.2.0",
          "state": {
            "_model_module": "@jupyter-widgets/base",
            "_model_module_version": "1.2.0",
            "_model_name": "LayoutModel",
            "_view_count": null,
            "_view_module": "@jupyter-widgets/base",
            "_view_module_version": "1.2.0",
            "_view_name": "LayoutView",
            "align_content": null,
            "align_items": null,
            "align_self": null,
            "border": null,
            "bottom": null,
            "display": null,
            "flex": null,
            "flex_flow": null,
            "grid_area": null,
            "grid_auto_columns": null,
            "grid_auto_flow": null,
            "grid_auto_rows": null,
            "grid_column": null,
            "grid_gap": null,
            "grid_row": null,
            "grid_template_areas": null,
            "grid_template_columns": null,
            "grid_template_rows": null,
            "height": null,
            "justify_content": null,
            "justify_items": null,
            "left": null,
            "margin": null,
            "max_height": null,
            "max_width": null,
            "min_height": null,
            "min_width": null,
            "object_fit": null,
            "object_position": null,
            "order": null,
            "overflow": null,
            "overflow_x": null,
            "overflow_y": null,
            "padding": null,
            "right": null,
            "top": null,
            "visibility": null,
            "width": null
          }
        },
        "280af4e9482f4445b295d61d0ff3811f": {
          "model_module": "@jupyter-widgets/base",
          "model_name": "LayoutModel",
          "model_module_version": "1.2.0",
          "state": {
            "_model_module": "@jupyter-widgets/base",
            "_model_module_version": "1.2.0",
            "_model_name": "LayoutModel",
            "_view_count": null,
            "_view_module": "@jupyter-widgets/base",
            "_view_module_version": "1.2.0",
            "_view_name": "LayoutView",
            "align_content": null,
            "align_items": null,
            "align_self": null,
            "border": null,
            "bottom": null,
            "display": null,
            "flex": null,
            "flex_flow": null,
            "grid_area": null,
            "grid_auto_columns": null,
            "grid_auto_flow": null,
            "grid_auto_rows": null,
            "grid_column": null,
            "grid_gap": null,
            "grid_row": null,
            "grid_template_areas": null,
            "grid_template_columns": null,
            "grid_template_rows": null,
            "height": null,
            "justify_content": null,
            "justify_items": null,
            "left": null,
            "margin": null,
            "max_height": null,
            "max_width": null,
            "min_height": null,
            "min_width": null,
            "object_fit": null,
            "object_position": null,
            "order": null,
            "overflow": null,
            "overflow_x": null,
            "overflow_y": null,
            "padding": null,
            "right": null,
            "top": null,
            "visibility": null,
            "width": null
          }
        },
        "aac548e9b2e842ee86b2ca1aaf6588e3": {
          "model_module": "@jupyter-widgets/controls",
          "model_name": "DescriptionStyleModel",
          "model_module_version": "1.5.0",
          "state": {
            "_model_module": "@jupyter-widgets/controls",
            "_model_module_version": "1.5.0",
            "_model_name": "DescriptionStyleModel",
            "_view_count": null,
            "_view_module": "@jupyter-widgets/base",
            "_view_module_version": "1.2.0",
            "_view_name": "StyleView",
            "description_width": ""
          }
        },
        "8ebb6b6a9a66419a866a706b9ac9cb5a": {
          "model_module": "@jupyter-widgets/base",
          "model_name": "LayoutModel",
          "model_module_version": "1.2.0",
          "state": {
            "_model_module": "@jupyter-widgets/base",
            "_model_module_version": "1.2.0",
            "_model_name": "LayoutModel",
            "_view_count": null,
            "_view_module": "@jupyter-widgets/base",
            "_view_module_version": "1.2.0",
            "_view_name": "LayoutView",
            "align_content": null,
            "align_items": null,
            "align_self": null,
            "border": null,
            "bottom": null,
            "display": null,
            "flex": null,
            "flex_flow": null,
            "grid_area": null,
            "grid_auto_columns": null,
            "grid_auto_flow": null,
            "grid_auto_rows": null,
            "grid_column": null,
            "grid_gap": null,
            "grid_row": null,
            "grid_template_areas": null,
            "grid_template_columns": null,
            "grid_template_rows": null,
            "height": null,
            "justify_content": null,
            "justify_items": null,
            "left": null,
            "margin": null,
            "max_height": null,
            "max_width": null,
            "min_height": null,
            "min_width": null,
            "object_fit": null,
            "object_position": null,
            "order": null,
            "overflow": null,
            "overflow_x": null,
            "overflow_y": null,
            "padding": null,
            "right": null,
            "top": null,
            "visibility": null,
            "width": null
          }
        },
        "1820247d8a5e43fc881a31ae598ae835": {
          "model_module": "@jupyter-widgets/controls",
          "model_name": "ProgressStyleModel",
          "model_module_version": "1.5.0",
          "state": {
            "_model_module": "@jupyter-widgets/controls",
            "_model_module_version": "1.5.0",
            "_model_name": "ProgressStyleModel",
            "_view_count": null,
            "_view_module": "@jupyter-widgets/base",
            "_view_module_version": "1.2.0",
            "_view_name": "StyleView",
            "bar_color": null,
            "description_width": ""
          }
        },
        "176e89e4a26643b7a7560240c66cc42b": {
          "model_module": "@jupyter-widgets/base",
          "model_name": "LayoutModel",
          "model_module_version": "1.2.0",
          "state": {
            "_model_module": "@jupyter-widgets/base",
            "_model_module_version": "1.2.0",
            "_model_name": "LayoutModel",
            "_view_count": null,
            "_view_module": "@jupyter-widgets/base",
            "_view_module_version": "1.2.0",
            "_view_name": "LayoutView",
            "align_content": null,
            "align_items": null,
            "align_self": null,
            "border": null,
            "bottom": null,
            "display": null,
            "flex": null,
            "flex_flow": null,
            "grid_area": null,
            "grid_auto_columns": null,
            "grid_auto_flow": null,
            "grid_auto_rows": null,
            "grid_column": null,
            "grid_gap": null,
            "grid_row": null,
            "grid_template_areas": null,
            "grid_template_columns": null,
            "grid_template_rows": null,
            "height": null,
            "justify_content": null,
            "justify_items": null,
            "left": null,
            "margin": null,
            "max_height": null,
            "max_width": null,
            "min_height": null,
            "min_width": null,
            "object_fit": null,
            "object_position": null,
            "order": null,
            "overflow": null,
            "overflow_x": null,
            "overflow_y": null,
            "padding": null,
            "right": null,
            "top": null,
            "visibility": null,
            "width": null
          }
        },
        "76752a66305948f4815ebb5bebc3c22e": {
          "model_module": "@jupyter-widgets/controls",
          "model_name": "DescriptionStyleModel",
          "model_module_version": "1.5.0",
          "state": {
            "_model_module": "@jupyter-widgets/controls",
            "_model_module_version": "1.5.0",
            "_model_name": "DescriptionStyleModel",
            "_view_count": null,
            "_view_module": "@jupyter-widgets/base",
            "_view_module_version": "1.2.0",
            "_view_name": "StyleView",
            "description_width": ""
          }
        },
        "6443bff9e572401a8da4a9f6f9426efb": {
          "model_module": "@jupyter-widgets/controls",
          "model_name": "HBoxModel",
          "model_module_version": "1.5.0",
          "state": {
            "_dom_classes": [],
            "_model_module": "@jupyter-widgets/controls",
            "_model_module_version": "1.5.0",
            "_model_name": "HBoxModel",
            "_view_count": null,
            "_view_module": "@jupyter-widgets/controls",
            "_view_module_version": "1.5.0",
            "_view_name": "HBoxView",
            "box_style": "",
            "children": [
              "IPY_MODEL_245857dd788f470a825fd0205028cda4",
              "IPY_MODEL_efb78194a12e46a89106501149db25ac",
              "IPY_MODEL_a21071f16efe4d47bf7bdb49d5b24bf0"
            ],
            "layout": "IPY_MODEL_9d2bdf1c4f8f4fb9a294b0de9c716632"
          }
        },
        "245857dd788f470a825fd0205028cda4": {
          "model_module": "@jupyter-widgets/controls",
          "model_name": "HTMLModel",
          "model_module_version": "1.5.0",
          "state": {
            "_dom_classes": [],
            "_model_module": "@jupyter-widgets/controls",
            "_model_module_version": "1.5.0",
            "_model_name": "HTMLModel",
            "_view_count": null,
            "_view_module": "@jupyter-widgets/controls",
            "_view_module_version": "1.5.0",
            "_view_name": "HTMLView",
            "description": "",
            "description_tooltip": null,
            "layout": "IPY_MODEL_2a1dce061fd74e62909644ff89e400dd",
            "placeholder": "​",
            "style": "IPY_MODEL_d7987beb4663467bbb01f46aba8681ab",
            "value": "Downloading: 100%"
          }
        },
        "efb78194a12e46a89106501149db25ac": {
          "model_module": "@jupyter-widgets/controls",
          "model_name": "FloatProgressModel",
          "model_module_version": "1.5.0",
          "state": {
            "_dom_classes": [],
            "_model_module": "@jupyter-widgets/controls",
            "_model_module_version": "1.5.0",
            "_model_name": "FloatProgressModel",
            "_view_count": null,
            "_view_module": "@jupyter-widgets/controls",
            "_view_module_version": "1.5.0",
            "_view_name": "ProgressView",
            "bar_style": "success",
            "description": "",
            "description_tooltip": null,
            "layout": "IPY_MODEL_a15731e08600422db82d81d7b1e907f2",
            "max": 28,
            "min": 0,
            "orientation": "horizontal",
            "style": "IPY_MODEL_8a53a90a833845b9a977ae4bbfa9bb37",
            "value": 28
          }
        },
        "a21071f16efe4d47bf7bdb49d5b24bf0": {
          "model_module": "@jupyter-widgets/controls",
          "model_name": "HTMLModel",
          "model_module_version": "1.5.0",
          "state": {
            "_dom_classes": [],
            "_model_module": "@jupyter-widgets/controls",
            "_model_module_version": "1.5.0",
            "_model_name": "HTMLModel",
            "_view_count": null,
            "_view_module": "@jupyter-widgets/controls",
            "_view_module_version": "1.5.0",
            "_view_name": "HTMLView",
            "description": "",
            "description_tooltip": null,
            "layout": "IPY_MODEL_3d7d86f0328e4712a22cd359a5651cc4",
            "placeholder": "​",
            "style": "IPY_MODEL_d88ec90fe6264b3783cde075f495d02a",
            "value": " 28.0/28.0 [00:00&lt;00:00, 1.12kB/s]"
          }
        },
        "9d2bdf1c4f8f4fb9a294b0de9c716632": {
          "model_module": "@jupyter-widgets/base",
          "model_name": "LayoutModel",
          "model_module_version": "1.2.0",
          "state": {
            "_model_module": "@jupyter-widgets/base",
            "_model_module_version": "1.2.0",
            "_model_name": "LayoutModel",
            "_view_count": null,
            "_view_module": "@jupyter-widgets/base",
            "_view_module_version": "1.2.0",
            "_view_name": "LayoutView",
            "align_content": null,
            "align_items": null,
            "align_self": null,
            "border": null,
            "bottom": null,
            "display": null,
            "flex": null,
            "flex_flow": null,
            "grid_area": null,
            "grid_auto_columns": null,
            "grid_auto_flow": null,
            "grid_auto_rows": null,
            "grid_column": null,
            "grid_gap": null,
            "grid_row": null,
            "grid_template_areas": null,
            "grid_template_columns": null,
            "grid_template_rows": null,
            "height": null,
            "justify_content": null,
            "justify_items": null,
            "left": null,
            "margin": null,
            "max_height": null,
            "max_width": null,
            "min_height": null,
            "min_width": null,
            "object_fit": null,
            "object_position": null,
            "order": null,
            "overflow": null,
            "overflow_x": null,
            "overflow_y": null,
            "padding": null,
            "right": null,
            "top": null,
            "visibility": null,
            "width": null
          }
        },
        "2a1dce061fd74e62909644ff89e400dd": {
          "model_module": "@jupyter-widgets/base",
          "model_name": "LayoutModel",
          "model_module_version": "1.2.0",
          "state": {
            "_model_module": "@jupyter-widgets/base",
            "_model_module_version": "1.2.0",
            "_model_name": "LayoutModel",
            "_view_count": null,
            "_view_module": "@jupyter-widgets/base",
            "_view_module_version": "1.2.0",
            "_view_name": "LayoutView",
            "align_content": null,
            "align_items": null,
            "align_self": null,
            "border": null,
            "bottom": null,
            "display": null,
            "flex": null,
            "flex_flow": null,
            "grid_area": null,
            "grid_auto_columns": null,
            "grid_auto_flow": null,
            "grid_auto_rows": null,
            "grid_column": null,
            "grid_gap": null,
            "grid_row": null,
            "grid_template_areas": null,
            "grid_template_columns": null,
            "grid_template_rows": null,
            "height": null,
            "justify_content": null,
            "justify_items": null,
            "left": null,
            "margin": null,
            "max_height": null,
            "max_width": null,
            "min_height": null,
            "min_width": null,
            "object_fit": null,
            "object_position": null,
            "order": null,
            "overflow": null,
            "overflow_x": null,
            "overflow_y": null,
            "padding": null,
            "right": null,
            "top": null,
            "visibility": null,
            "width": null
          }
        },
        "d7987beb4663467bbb01f46aba8681ab": {
          "model_module": "@jupyter-widgets/controls",
          "model_name": "DescriptionStyleModel",
          "model_module_version": "1.5.0",
          "state": {
            "_model_module": "@jupyter-widgets/controls",
            "_model_module_version": "1.5.0",
            "_model_name": "DescriptionStyleModel",
            "_view_count": null,
            "_view_module": "@jupyter-widgets/base",
            "_view_module_version": "1.2.0",
            "_view_name": "StyleView",
            "description_width": ""
          }
        },
        "a15731e08600422db82d81d7b1e907f2": {
          "model_module": "@jupyter-widgets/base",
          "model_name": "LayoutModel",
          "model_module_version": "1.2.0",
          "state": {
            "_model_module": "@jupyter-widgets/base",
            "_model_module_version": "1.2.0",
            "_model_name": "LayoutModel",
            "_view_count": null,
            "_view_module": "@jupyter-widgets/base",
            "_view_module_version": "1.2.0",
            "_view_name": "LayoutView",
            "align_content": null,
            "align_items": null,
            "align_self": null,
            "border": null,
            "bottom": null,
            "display": null,
            "flex": null,
            "flex_flow": null,
            "grid_area": null,
            "grid_auto_columns": null,
            "grid_auto_flow": null,
            "grid_auto_rows": null,
            "grid_column": null,
            "grid_gap": null,
            "grid_row": null,
            "grid_template_areas": null,
            "grid_template_columns": null,
            "grid_template_rows": null,
            "height": null,
            "justify_content": null,
            "justify_items": null,
            "left": null,
            "margin": null,
            "max_height": null,
            "max_width": null,
            "min_height": null,
            "min_width": null,
            "object_fit": null,
            "object_position": null,
            "order": null,
            "overflow": null,
            "overflow_x": null,
            "overflow_y": null,
            "padding": null,
            "right": null,
            "top": null,
            "visibility": null,
            "width": null
          }
        },
        "8a53a90a833845b9a977ae4bbfa9bb37": {
          "model_module": "@jupyter-widgets/controls",
          "model_name": "ProgressStyleModel",
          "model_module_version": "1.5.0",
          "state": {
            "_model_module": "@jupyter-widgets/controls",
            "_model_module_version": "1.5.0",
            "_model_name": "ProgressStyleModel",
            "_view_count": null,
            "_view_module": "@jupyter-widgets/base",
            "_view_module_version": "1.2.0",
            "_view_name": "StyleView",
            "bar_color": null,
            "description_width": ""
          }
        },
        "3d7d86f0328e4712a22cd359a5651cc4": {
          "model_module": "@jupyter-widgets/base",
          "model_name": "LayoutModel",
          "model_module_version": "1.2.0",
          "state": {
            "_model_module": "@jupyter-widgets/base",
            "_model_module_version": "1.2.0",
            "_model_name": "LayoutModel",
            "_view_count": null,
            "_view_module": "@jupyter-widgets/base",
            "_view_module_version": "1.2.0",
            "_view_name": "LayoutView",
            "align_content": null,
            "align_items": null,
            "align_self": null,
            "border": null,
            "bottom": null,
            "display": null,
            "flex": null,
            "flex_flow": null,
            "grid_area": null,
            "grid_auto_columns": null,
            "grid_auto_flow": null,
            "grid_auto_rows": null,
            "grid_column": null,
            "grid_gap": null,
            "grid_row": null,
            "grid_template_areas": null,
            "grid_template_columns": null,
            "grid_template_rows": null,
            "height": null,
            "justify_content": null,
            "justify_items": null,
            "left": null,
            "margin": null,
            "max_height": null,
            "max_width": null,
            "min_height": null,
            "min_width": null,
            "object_fit": null,
            "object_position": null,
            "order": null,
            "overflow": null,
            "overflow_x": null,
            "overflow_y": null,
            "padding": null,
            "right": null,
            "top": null,
            "visibility": null,
            "width": null
          }
        },
        "d88ec90fe6264b3783cde075f495d02a": {
          "model_module": "@jupyter-widgets/controls",
          "model_name": "DescriptionStyleModel",
          "model_module_version": "1.5.0",
          "state": {
            "_model_module": "@jupyter-widgets/controls",
            "_model_module_version": "1.5.0",
            "_model_name": "DescriptionStyleModel",
            "_view_count": null,
            "_view_module": "@jupyter-widgets/base",
            "_view_module_version": "1.2.0",
            "_view_name": "StyleView",
            "description_width": ""
          }
        },
        "4c1bc656287d4a73bb13840b6356bc0a": {
          "model_module": "@jupyter-widgets/controls",
          "model_name": "HBoxModel",
          "model_module_version": "1.5.0",
          "state": {
            "_dom_classes": [],
            "_model_module": "@jupyter-widgets/controls",
            "_model_module_version": "1.5.0",
            "_model_name": "HBoxModel",
            "_view_count": null,
            "_view_module": "@jupyter-widgets/controls",
            "_view_module_version": "1.5.0",
            "_view_name": "HBoxView",
            "box_style": "",
            "children": [
              "IPY_MODEL_2eb0adb48f294954b35c9616442d18fa",
              "IPY_MODEL_9e4064c16ce14cd1a25b26812888817a",
              "IPY_MODEL_82381438b56742e1b8d264735ad1348a"
            ],
            "layout": "IPY_MODEL_1e57a9101052456486d5be7aa55c4ce8"
          }
        },
        "2eb0adb48f294954b35c9616442d18fa": {
          "model_module": "@jupyter-widgets/controls",
          "model_name": "HTMLModel",
          "model_module_version": "1.5.0",
          "state": {
            "_dom_classes": [],
            "_model_module": "@jupyter-widgets/controls",
            "_model_module_version": "1.5.0",
            "_model_name": "HTMLModel",
            "_view_count": null,
            "_view_module": "@jupyter-widgets/controls",
            "_view_module_version": "1.5.0",
            "_view_name": "HTMLView",
            "description": "",
            "description_tooltip": null,
            "layout": "IPY_MODEL_adadbfc481564c3f9a66bed61965119f",
            "placeholder": "​",
            "style": "IPY_MODEL_33462d77ed8d4fafa2d8c45789e56c87",
            "value": "Downloading: 100%"
          }
        },
        "9e4064c16ce14cd1a25b26812888817a": {
          "model_module": "@jupyter-widgets/controls",
          "model_name": "FloatProgressModel",
          "model_module_version": "1.5.0",
          "state": {
            "_dom_classes": [],
            "_model_module": "@jupyter-widgets/controls",
            "_model_module_version": "1.5.0",
            "_model_name": "FloatProgressModel",
            "_view_count": null,
            "_view_module": "@jupyter-widgets/controls",
            "_view_module_version": "1.5.0",
            "_view_name": "ProgressView",
            "bar_style": "success",
            "description": "",
            "description_tooltip": null,
            "layout": "IPY_MODEL_cdb0fc18b7254e0aad5a4e82789e1ba5",
            "max": 483,
            "min": 0,
            "orientation": "horizontal",
            "style": "IPY_MODEL_677727607eca4e219eda835e212d9478",
            "value": 483
          }
        },
        "82381438b56742e1b8d264735ad1348a": {
          "model_module": "@jupyter-widgets/controls",
          "model_name": "HTMLModel",
          "model_module_version": "1.5.0",
          "state": {
            "_dom_classes": [],
            "_model_module": "@jupyter-widgets/controls",
            "_model_module_version": "1.5.0",
            "_model_name": "HTMLModel",
            "_view_count": null,
            "_view_module": "@jupyter-widgets/controls",
            "_view_module_version": "1.5.0",
            "_view_name": "HTMLView",
            "description": "",
            "description_tooltip": null,
            "layout": "IPY_MODEL_db934baeef92409185a9992d3882869e",
            "placeholder": "​",
            "style": "IPY_MODEL_6e5809ca2f8749aebdf4e74e8ea6b419",
            "value": " 483/483 [00:00&lt;00:00, 21.1kB/s]"
          }
        },
        "1e57a9101052456486d5be7aa55c4ce8": {
          "model_module": "@jupyter-widgets/base",
          "model_name": "LayoutModel",
          "model_module_version": "1.2.0",
          "state": {
            "_model_module": "@jupyter-widgets/base",
            "_model_module_version": "1.2.0",
            "_model_name": "LayoutModel",
            "_view_count": null,
            "_view_module": "@jupyter-widgets/base",
            "_view_module_version": "1.2.0",
            "_view_name": "LayoutView",
            "align_content": null,
            "align_items": null,
            "align_self": null,
            "border": null,
            "bottom": null,
            "display": null,
            "flex": null,
            "flex_flow": null,
            "grid_area": null,
            "grid_auto_columns": null,
            "grid_auto_flow": null,
            "grid_auto_rows": null,
            "grid_column": null,
            "grid_gap": null,
            "grid_row": null,
            "grid_template_areas": null,
            "grid_template_columns": null,
            "grid_template_rows": null,
            "height": null,
            "justify_content": null,
            "justify_items": null,
            "left": null,
            "margin": null,
            "max_height": null,
            "max_width": null,
            "min_height": null,
            "min_width": null,
            "object_fit": null,
            "object_position": null,
            "order": null,
            "overflow": null,
            "overflow_x": null,
            "overflow_y": null,
            "padding": null,
            "right": null,
            "top": null,
            "visibility": null,
            "width": null
          }
        },
        "adadbfc481564c3f9a66bed61965119f": {
          "model_module": "@jupyter-widgets/base",
          "model_name": "LayoutModel",
          "model_module_version": "1.2.0",
          "state": {
            "_model_module": "@jupyter-widgets/base",
            "_model_module_version": "1.2.0",
            "_model_name": "LayoutModel",
            "_view_count": null,
            "_view_module": "@jupyter-widgets/base",
            "_view_module_version": "1.2.0",
            "_view_name": "LayoutView",
            "align_content": null,
            "align_items": null,
            "align_self": null,
            "border": null,
            "bottom": null,
            "display": null,
            "flex": null,
            "flex_flow": null,
            "grid_area": null,
            "grid_auto_columns": null,
            "grid_auto_flow": null,
            "grid_auto_rows": null,
            "grid_column": null,
            "grid_gap": null,
            "grid_row": null,
            "grid_template_areas": null,
            "grid_template_columns": null,
            "grid_template_rows": null,
            "height": null,
            "justify_content": null,
            "justify_items": null,
            "left": null,
            "margin": null,
            "max_height": null,
            "max_width": null,
            "min_height": null,
            "min_width": null,
            "object_fit": null,
            "object_position": null,
            "order": null,
            "overflow": null,
            "overflow_x": null,
            "overflow_y": null,
            "padding": null,
            "right": null,
            "top": null,
            "visibility": null,
            "width": null
          }
        },
        "33462d77ed8d4fafa2d8c45789e56c87": {
          "model_module": "@jupyter-widgets/controls",
          "model_name": "DescriptionStyleModel",
          "model_module_version": "1.5.0",
          "state": {
            "_model_module": "@jupyter-widgets/controls",
            "_model_module_version": "1.5.0",
            "_model_name": "DescriptionStyleModel",
            "_view_count": null,
            "_view_module": "@jupyter-widgets/base",
            "_view_module_version": "1.2.0",
            "_view_name": "StyleView",
            "description_width": ""
          }
        },
        "cdb0fc18b7254e0aad5a4e82789e1ba5": {
          "model_module": "@jupyter-widgets/base",
          "model_name": "LayoutModel",
          "model_module_version": "1.2.0",
          "state": {
            "_model_module": "@jupyter-widgets/base",
            "_model_module_version": "1.2.0",
            "_model_name": "LayoutModel",
            "_view_count": null,
            "_view_module": "@jupyter-widgets/base",
            "_view_module_version": "1.2.0",
            "_view_name": "LayoutView",
            "align_content": null,
            "align_items": null,
            "align_self": null,
            "border": null,
            "bottom": null,
            "display": null,
            "flex": null,
            "flex_flow": null,
            "grid_area": null,
            "grid_auto_columns": null,
            "grid_auto_flow": null,
            "grid_auto_rows": null,
            "grid_column": null,
            "grid_gap": null,
            "grid_row": null,
            "grid_template_areas": null,
            "grid_template_columns": null,
            "grid_template_rows": null,
            "height": null,
            "justify_content": null,
            "justify_items": null,
            "left": null,
            "margin": null,
            "max_height": null,
            "max_width": null,
            "min_height": null,
            "min_width": null,
            "object_fit": null,
            "object_position": null,
            "order": null,
            "overflow": null,
            "overflow_x": null,
            "overflow_y": null,
            "padding": null,
            "right": null,
            "top": null,
            "visibility": null,
            "width": null
          }
        },
        "677727607eca4e219eda835e212d9478": {
          "model_module": "@jupyter-widgets/controls",
          "model_name": "ProgressStyleModel",
          "model_module_version": "1.5.0",
          "state": {
            "_model_module": "@jupyter-widgets/controls",
            "_model_module_version": "1.5.0",
            "_model_name": "ProgressStyleModel",
            "_view_count": null,
            "_view_module": "@jupyter-widgets/base",
            "_view_module_version": "1.2.0",
            "_view_name": "StyleView",
            "bar_color": null,
            "description_width": ""
          }
        },
        "db934baeef92409185a9992d3882869e": {
          "model_module": "@jupyter-widgets/base",
          "model_name": "LayoutModel",
          "model_module_version": "1.2.0",
          "state": {
            "_model_module": "@jupyter-widgets/base",
            "_model_module_version": "1.2.0",
            "_model_name": "LayoutModel",
            "_view_count": null,
            "_view_module": "@jupyter-widgets/base",
            "_view_module_version": "1.2.0",
            "_view_name": "LayoutView",
            "align_content": null,
            "align_items": null,
            "align_self": null,
            "border": null,
            "bottom": null,
            "display": null,
            "flex": null,
            "flex_flow": null,
            "grid_area": null,
            "grid_auto_columns": null,
            "grid_auto_flow": null,
            "grid_auto_rows": null,
            "grid_column": null,
            "grid_gap": null,
            "grid_row": null,
            "grid_template_areas": null,
            "grid_template_columns": null,
            "grid_template_rows": null,
            "height": null,
            "justify_content": null,
            "justify_items": null,
            "left": null,
            "margin": null,
            "max_height": null,
            "max_width": null,
            "min_height": null,
            "min_width": null,
            "object_fit": null,
            "object_position": null,
            "order": null,
            "overflow": null,
            "overflow_x": null,
            "overflow_y": null,
            "padding": null,
            "right": null,
            "top": null,
            "visibility": null,
            "width": null
          }
        },
        "6e5809ca2f8749aebdf4e74e8ea6b419": {
          "model_module": "@jupyter-widgets/controls",
          "model_name": "DescriptionStyleModel",
          "model_module_version": "1.5.0",
          "state": {
            "_model_module": "@jupyter-widgets/controls",
            "_model_module_version": "1.5.0",
            "_model_name": "DescriptionStyleModel",
            "_view_count": null,
            "_view_module": "@jupyter-widgets/base",
            "_view_module_version": "1.2.0",
            "_view_name": "StyleView",
            "description_width": ""
          }
        },
        "fefc1268edce4a2ba1785a4ac13cebe0": {
          "model_module": "@jupyter-widgets/controls",
          "model_name": "HBoxModel",
          "model_module_version": "1.5.0",
          "state": {
            "_dom_classes": [],
            "_model_module": "@jupyter-widgets/controls",
            "_model_module_version": "1.5.0",
            "_model_name": "HBoxModel",
            "_view_count": null,
            "_view_module": "@jupyter-widgets/controls",
            "_view_module_version": "1.5.0",
            "_view_name": "HBoxView",
            "box_style": "",
            "children": [
              "IPY_MODEL_cd1963bca0e84464a1da7799e386c19d",
              "IPY_MODEL_225b3c6fccde434eb7c28257a1b1129e",
              "IPY_MODEL_85b08e9a0c404362b3d522d8f614ff73"
            ],
            "layout": "IPY_MODEL_9d5212e6c52044a6a600f9bb72bb26fd"
          }
        },
        "cd1963bca0e84464a1da7799e386c19d": {
          "model_module": "@jupyter-widgets/controls",
          "model_name": "HTMLModel",
          "model_module_version": "1.5.0",
          "state": {
            "_dom_classes": [],
            "_model_module": "@jupyter-widgets/controls",
            "_model_module_version": "1.5.0",
            "_model_name": "HTMLModel",
            "_view_count": null,
            "_view_module": "@jupyter-widgets/controls",
            "_view_module_version": "1.5.0",
            "_view_name": "HTMLView",
            "description": "",
            "description_tooltip": null,
            "layout": "IPY_MODEL_d6c653db9f2c4589be16d135a1151a70",
            "placeholder": "​",
            "style": "IPY_MODEL_99a9ba2be40343aaa21f16438d901aea",
            "value": "Downloading: 100%"
          }
        },
        "225b3c6fccde434eb7c28257a1b1129e": {
          "model_module": "@jupyter-widgets/controls",
          "model_name": "FloatProgressModel",
          "model_module_version": "1.5.0",
          "state": {
            "_dom_classes": [],
            "_model_module": "@jupyter-widgets/controls",
            "_model_module_version": "1.5.0",
            "_model_name": "FloatProgressModel",
            "_view_count": null,
            "_view_module": "@jupyter-widgets/controls",
            "_view_module_version": "1.5.0",
            "_view_name": "ProgressView",
            "bar_style": "success",
            "description": "",
            "description_tooltip": null,
            "layout": "IPY_MODEL_80b23e44dd414c318db64d23f60703cb",
            "max": 363423424,
            "min": 0,
            "orientation": "horizontal",
            "style": "IPY_MODEL_d5e2d8635dc0423b990936c5b3ab397d",
            "value": 363423424
          }
        },
        "85b08e9a0c404362b3d522d8f614ff73": {
          "model_module": "@jupyter-widgets/controls",
          "model_name": "HTMLModel",
          "model_module_version": "1.5.0",
          "state": {
            "_dom_classes": [],
            "_model_module": "@jupyter-widgets/controls",
            "_model_module_version": "1.5.0",
            "_model_name": "HTMLModel",
            "_view_count": null,
            "_view_module": "@jupyter-widgets/controls",
            "_view_module_version": "1.5.0",
            "_view_name": "HTMLView",
            "description": "",
            "description_tooltip": null,
            "layout": "IPY_MODEL_65a40d0471ef4174a2975d53479ce23f",
            "placeholder": "​",
            "style": "IPY_MODEL_14b72d9b8da5447b8bf7a3b238d6c4dd",
            "value": " 347M/347M [00:05&lt;00:00, 70.0MB/s]"
          }
        },
        "9d5212e6c52044a6a600f9bb72bb26fd": {
          "model_module": "@jupyter-widgets/base",
          "model_name": "LayoutModel",
          "model_module_version": "1.2.0",
          "state": {
            "_model_module": "@jupyter-widgets/base",
            "_model_module_version": "1.2.0",
            "_model_name": "LayoutModel",
            "_view_count": null,
            "_view_module": "@jupyter-widgets/base",
            "_view_module_version": "1.2.0",
            "_view_name": "LayoutView",
            "align_content": null,
            "align_items": null,
            "align_self": null,
            "border": null,
            "bottom": null,
            "display": null,
            "flex": null,
            "flex_flow": null,
            "grid_area": null,
            "grid_auto_columns": null,
            "grid_auto_flow": null,
            "grid_auto_rows": null,
            "grid_column": null,
            "grid_gap": null,
            "grid_row": null,
            "grid_template_areas": null,
            "grid_template_columns": null,
            "grid_template_rows": null,
            "height": null,
            "justify_content": null,
            "justify_items": null,
            "left": null,
            "margin": null,
            "max_height": null,
            "max_width": null,
            "min_height": null,
            "min_width": null,
            "object_fit": null,
            "object_position": null,
            "order": null,
            "overflow": null,
            "overflow_x": null,
            "overflow_y": null,
            "padding": null,
            "right": null,
            "top": null,
            "visibility": null,
            "width": null
          }
        },
        "d6c653db9f2c4589be16d135a1151a70": {
          "model_module": "@jupyter-widgets/base",
          "model_name": "LayoutModel",
          "model_module_version": "1.2.0",
          "state": {
            "_model_module": "@jupyter-widgets/base",
            "_model_module_version": "1.2.0",
            "_model_name": "LayoutModel",
            "_view_count": null,
            "_view_module": "@jupyter-widgets/base",
            "_view_module_version": "1.2.0",
            "_view_name": "LayoutView",
            "align_content": null,
            "align_items": null,
            "align_self": null,
            "border": null,
            "bottom": null,
            "display": null,
            "flex": null,
            "flex_flow": null,
            "grid_area": null,
            "grid_auto_columns": null,
            "grid_auto_flow": null,
            "grid_auto_rows": null,
            "grid_column": null,
            "grid_gap": null,
            "grid_row": null,
            "grid_template_areas": null,
            "grid_template_columns": null,
            "grid_template_rows": null,
            "height": null,
            "justify_content": null,
            "justify_items": null,
            "left": null,
            "margin": null,
            "max_height": null,
            "max_width": null,
            "min_height": null,
            "min_width": null,
            "object_fit": null,
            "object_position": null,
            "order": null,
            "overflow": null,
            "overflow_x": null,
            "overflow_y": null,
            "padding": null,
            "right": null,
            "top": null,
            "visibility": null,
            "width": null
          }
        },
        "99a9ba2be40343aaa21f16438d901aea": {
          "model_module": "@jupyter-widgets/controls",
          "model_name": "DescriptionStyleModel",
          "model_module_version": "1.5.0",
          "state": {
            "_model_module": "@jupyter-widgets/controls",
            "_model_module_version": "1.5.0",
            "_model_name": "DescriptionStyleModel",
            "_view_count": null,
            "_view_module": "@jupyter-widgets/base",
            "_view_module_version": "1.2.0",
            "_view_name": "StyleView",
            "description_width": ""
          }
        },
        "80b23e44dd414c318db64d23f60703cb": {
          "model_module": "@jupyter-widgets/base",
          "model_name": "LayoutModel",
          "model_module_version": "1.2.0",
          "state": {
            "_model_module": "@jupyter-widgets/base",
            "_model_module_version": "1.2.0",
            "_model_name": "LayoutModel",
            "_view_count": null,
            "_view_module": "@jupyter-widgets/base",
            "_view_module_version": "1.2.0",
            "_view_name": "LayoutView",
            "align_content": null,
            "align_items": null,
            "align_self": null,
            "border": null,
            "bottom": null,
            "display": null,
            "flex": null,
            "flex_flow": null,
            "grid_area": null,
            "grid_auto_columns": null,
            "grid_auto_flow": null,
            "grid_auto_rows": null,
            "grid_column": null,
            "grid_gap": null,
            "grid_row": null,
            "grid_template_areas": null,
            "grid_template_columns": null,
            "grid_template_rows": null,
            "height": null,
            "justify_content": null,
            "justify_items": null,
            "left": null,
            "margin": null,
            "max_height": null,
            "max_width": null,
            "min_height": null,
            "min_width": null,
            "object_fit": null,
            "object_position": null,
            "order": null,
            "overflow": null,
            "overflow_x": null,
            "overflow_y": null,
            "padding": null,
            "right": null,
            "top": null,
            "visibility": null,
            "width": null
          }
        },
        "d5e2d8635dc0423b990936c5b3ab397d": {
          "model_module": "@jupyter-widgets/controls",
          "model_name": "ProgressStyleModel",
          "model_module_version": "1.5.0",
          "state": {
            "_model_module": "@jupyter-widgets/controls",
            "_model_module_version": "1.5.0",
            "_model_name": "ProgressStyleModel",
            "_view_count": null,
            "_view_module": "@jupyter-widgets/base",
            "_view_module_version": "1.2.0",
            "_view_name": "StyleView",
            "bar_color": null,
            "description_width": ""
          }
        },
        "65a40d0471ef4174a2975d53479ce23f": {
          "model_module": "@jupyter-widgets/base",
          "model_name": "LayoutModel",
          "model_module_version": "1.2.0",
          "state": {
            "_model_module": "@jupyter-widgets/base",
            "_model_module_version": "1.2.0",
            "_model_name": "LayoutModel",
            "_view_count": null,
            "_view_module": "@jupyter-widgets/base",
            "_view_module_version": "1.2.0",
            "_view_name": "LayoutView",
            "align_content": null,
            "align_items": null,
            "align_self": null,
            "border": null,
            "bottom": null,
            "display": null,
            "flex": null,
            "flex_flow": null,
            "grid_area": null,
            "grid_auto_columns": null,
            "grid_auto_flow": null,
            "grid_auto_rows": null,
            "grid_column": null,
            "grid_gap": null,
            "grid_row": null,
            "grid_template_areas": null,
            "grid_template_columns": null,
            "grid_template_rows": null,
            "height": null,
            "justify_content": null,
            "justify_items": null,
            "left": null,
            "margin": null,
            "max_height": null,
            "max_width": null,
            "min_height": null,
            "min_width": null,
            "object_fit": null,
            "object_position": null,
            "order": null,
            "overflow": null,
            "overflow_x": null,
            "overflow_y": null,
            "padding": null,
            "right": null,
            "top": null,
            "visibility": null,
            "width": null
          }
        },
        "14b72d9b8da5447b8bf7a3b238d6c4dd": {
          "model_module": "@jupyter-widgets/controls",
          "model_name": "DescriptionStyleModel",
          "model_module_version": "1.5.0",
          "state": {
            "_model_module": "@jupyter-widgets/controls",
            "_model_module_version": "1.5.0",
            "_model_name": "DescriptionStyleModel",
            "_view_count": null,
            "_view_module": "@jupyter-widgets/base",
            "_view_module_version": "1.2.0",
            "_view_name": "StyleView",
            "description_width": ""
          }
        }
      }
    }
  },
  "nbformat": 4,
  "nbformat_minor": 0
}